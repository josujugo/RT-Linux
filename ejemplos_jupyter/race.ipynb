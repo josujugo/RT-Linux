{
  "cells": [
    {
      "cell_type": "markdown",
      "source": [
        "### example of a mutual exclusion (mutex) lock\n",
        "From\n",
        "https://superfastpython.com/thread-mutex-lock/"
      ],
      "metadata": {
        "nteract": {
          "transient": {
            "deleting": false
          }
        }
      }
    },
    {
      "cell_type": "code",
      "source": [
        "from time import sleep\n",
        "from random import random\n",
        "from threading import Thread\n",
        "from threading import Lock\n",
        " \n",
        "# work function\n",
        "def task(lock, identifier, value):\n",
        "    # acquire the lock\n",
        "    with lock:\n",
        "        print(f'>thread {identifier} got the lock, sleeping for {value}')\n",
        "        sleep(value)\n",
        " \n",
        "# create a shared lock\n",
        "lock = Lock()\n",
        "# start a few threads that attempt to execute the same critical section\n",
        "for i in range(10):\n",
        "    # start a thread\n",
        "    Thread(target=task, args=(lock, i, random()*10)).start()\n",
        "# wait for all threads to finish..."
      ],
      "outputs": [
        {
          "output_type": "stream",
          "name": "stdout",
          "text": [
            ">thread 0 got the lock, sleeping for 4.081728085537989\n",
            ">thread 1 got the lock, sleeping for 2.9080556068569843\n",
            ">thread 2 got the lock, sleeping for 0.38023598304484096\n",
            ">thread 3 got the lock, sleeping for 8.550443591198139\n",
            ">thread 4 got the lock, sleeping for 1.0953735605563364\n",
            ">thread 5 got the lock, sleeping for 3.508343621315876\n",
            ">thread 6 got the lock, sleeping for 1.0787949290262078\n",
            ">thread 7 got the lock, sleeping for 7.704572791740967\n",
            ">thread 8 got the lock, sleeping for 9.276338005581165\n",
            ">thread 9 got the lock, sleeping for 4.831648940122299\n"
          ]
        }
      ],
      "execution_count": 22,
      "metadata": {
        "collapsed": true,
        "jupyter": {
          "source_hidden": false,
          "outputs_hidden": false
        },
        "nteract": {
          "transient": {
            "deleting": false
          }
        },
        "execution": {
          "shell.execute_reply": "2024-02-17T19:59:56.090Z",
          "iopub.status.busy": "2024-02-17T19:59:56.082Z",
          "iopub.execute_input": "2024-02-17T19:59:56.084Z",
          "iopub.status.idle": "2024-02-17T19:59:56.088Z"
        }
      }
    },
    {
      "cell_type": "markdown",
      "source": [
        "### Sin Lock"
      ],
      "metadata": {
        "nteract": {
          "transient": {
            "deleting": false
          }
        }
      }
    },
    {
      "cell_type": "code",
      "source": [
        "from time import sleep\n",
        "from random import random\n",
        "from threading import Thread\n",
        "from threading import Lock\n",
        "j=0\n",
        "# work function\n",
        "def task(identifier, value):\n",
        "        global j\n",
        "        sleep(value)\n",
        "        print(f'>thread {identifier} got the lock, sleeping for {value}')\n",
        "        j=identifier\n",
        "        \n",
        "\n",
        "# start a few threads that attempt to execute the same critical section\n",
        "buffer=[]\n",
        "for i in range(10):\n",
        "    # start a thread\n",
        "    buffer.append(Thread(target=task, args=(i, random()*10)))\n",
        "    \n",
        "[ii.start() for ii in buffer]\n",
        "[ii.join() for ii in buffer]\n",
        "#print(len(buffer))#[8].join()    \n",
        "print(j)"
      ],
      "outputs": [
        {
          "output_type": "stream",
          "name": "stdout",
          "text": [
            ">thread 0 got the lock, sleeping for 1.157563827916207\n",
            ">thread 8 got the lock, sleeping for 2.647398564148956\n",
            ">thread 7 got the lock, sleeping for 4.679344639329992\n",
            ">thread 4 got the lock, sleeping for 5.06987670252851\n",
            ">thread 1 got the lock, sleeping for 5.959680197684204\n",
            ">thread 9 got the lock, sleeping for 8.015499356504698\n",
            ">thread 5 got the lock, sleeping for 8.216977552791665\n",
            ">thread 2 got the lock, sleeping for 8.59617630685347\n",
            ">thread 3 got the lock, sleeping for 9.023270643600767\n",
            ">thread 6 got the lock, sleeping for 9.6133690948969\n",
            "6\n"
          ]
        }
      ],
      "execution_count": 23,
      "metadata": {
        "collapsed": true,
        "jupyter": {
          "source_hidden": false,
          "outputs_hidden": false
        },
        "nteract": {
          "transient": {
            "deleting": false
          }
        },
        "execution": {
          "iopub.status.busy": "2024-02-17T20:00:30.704Z",
          "iopub.execute_input": "2024-02-17T20:00:30.706Z",
          "iopub.status.idle": "2024-02-17T20:00:40.330Z",
          "shell.execute_reply": "2024-02-17T20:00:40.341Z"
        }
      }
    },
    {
      "cell_type": "markdown",
      "source": [
        "Otra forma de Lock ... (para toda la tarea)"
      ],
      "metadata": {
        "nteract": {
          "transient": {
            "deleting": false
          }
        }
      }
    },
    {
      "cell_type": "code",
      "source": [
        "from time import sleep\n",
        "from random import random\n",
        "from threading import Thread\n",
        "from threading import Lock\n",
        "j=0\n",
        "# work function\n",
        "def task(identifier, value):\n",
        "        global j\n",
        "        sleep(value)\n",
        "        print(f'>thread {identifier} got the lock, sleeping for {value}')\n",
        "        j=identifier\n",
        "        \n",
        "\n",
        "# start a few threads that attempt to execute the same critical section\n",
        "buffer=[]\n",
        "for i in range(10):\n",
        "    # start a thread\n",
        "    buffer.append(Thread(target=task, args=(i, random()*10)))\n",
        "    buffer[i].start()\n",
        "    buffer[i].join()\n",
        "#print(len(buffer))#[8].join()    \n",
        "print(j)"
      ],
      "outputs": [
        {
          "output_type": "stream",
          "name": "stdout",
          "text": [
            ">thread 0 got the lock, sleeping for 0.04626775918289194\n",
            ">thread 1 got the lock, sleeping for 0.27269618925416794\n",
            ">thread 2 got the lock, sleeping for 2.3092868050205673\n",
            ">thread 3 got the lock, sleeping for 4.1951113635331625\n",
            ">thread 4 got the lock, sleeping for 2.5069325378410587\n",
            ">thread 5 got the lock, sleeping for 8.264430840635494\n",
            ">thread 6 got the lock, sleeping for 3.788899875612075\n",
            ">thread 7 got the lock, sleeping for 2.7114486633257293\n",
            ">thread 8 got the lock, sleeping for 2.348366396356253\n",
            ">thread 9 got the lock, sleeping for 2.9215369925531176\n",
            "9\n"
          ]
        }
      ],
      "execution_count": 26,
      "metadata": {
        "collapsed": true,
        "jupyter": {
          "source_hidden": false,
          "outputs_hidden": false
        },
        "nteract": {
          "transient": {
            "deleting": false
          }
        },
        "execution": {
          "iopub.status.busy": "2024-02-17T20:16:48.997Z",
          "iopub.execute_input": "2024-02-17T20:16:49.003Z",
          "iopub.status.idle": "2024-02-17T20:17:18.405Z",
          "shell.execute_reply": "2024-02-17T20:17:18.480Z"
        }
      }
    },
    {
      "cell_type": "markdown",
      "source": [
        "python-ipc-examples/process_to_process-with-fifo.py\n",
        "\n",
        "From\n",
        "\n",
        "https://github.com/spurin/python-ipc-examples/tree/master"
      ],
      "metadata": {
        "nteract": {
          "transient": {
            "deleting": false
          }
        }
      }
    },
    {
      "cell_type": "code",
      "source": [
        "import logging\n",
        "import os\n",
        "import time\n",
        "from multiprocessing import Process\n",
        "\n",
        "# Process1 logic\n",
        "def process1():\n",
        "    process1_logger = logging.getLogger('process1')\n",
        "    process1_logger.info(f\"Pid:{os.getpid()}\")\n",
        "    fifo = '/tmp/process_fifo.txt'\n",
        "\n",
        "    # Create a fifo, os.mkfifo will block until there is a reader (process2)\n",
        "    os.mkfifo(fifo)\n",
        "\n",
        "    # Open fifo for writing\n",
        "    file = open(fifo, 'w')\n",
        "\n",
        "    # Write 10 entries\n",
        "    for i in range(1,11):\n",
        "\n",
        "        # Attempt to write to our fifo until succession\n",
        "        while True:\n",
        "            try:\n",
        "                process1_logger.info(f\"Writing {int(i)}\")\n",
        "                file.write(f\"{i}\\n\")\n",
        "                file.flush()\n",
        "                break\n",
        "            except:\n",
        "                pass\n",
        "\n",
        "    # Clean up fifo\n",
        "    file.close()\n",
        "\n",
        "    # Grace for the read process to complete\n",
        "    process1_logger.info(\"Sleeping for 2\")\n",
        "    time.sleep(2)\n",
        "\n",
        "    # Log completion\n",
        "    process1_logger.info(\"Finished process 1\")\n",
        "\n",
        "\n",
        "# Process2 logic\n",
        "def process2():\n",
        "    process2_logger = logging.getLogger('process2')\n",
        "    process2_logger.info(f\"Pid:{os.getpid()}\")\n",
        "    fifo = '/tmp/process_fifo.txt'\n",
        "\n",
        "    # Keep attempting to open the fifo, ignore race condition failures\n",
        "    while True:\n",
        "        try:\n",
        "            file = open(fifo, 'r')\n",
        "            break\n",
        "        except:\n",
        "            pass\n",
        "\n",
        "    # Expect 10 entries\n",
        "    count = 0\n",
        "    while count < 10:\n",
        "        while True:\n",
        "            try:\n",
        "                line = file.readline()\n",
        "                process2_logger.info(f\"Read: {int(line)}\")\n",
        "                count += 1\n",
        "                break\n",
        "            except:\n",
        "                pass\n",
        "\n",
        "    # Clean up fifo\n",
        "    file.close()\n",
        "    os.remove(fifo)\n",
        "\n",
        "    # Log completion\n",
        "    process2_logger.info(\"Finished process 2\")\n",
        "\n",
        "\n",
        "# Main\n",
        "def main():\n",
        "\n",
        "    # Setup parent logger and log pid\n",
        "    parent_logger = logging.getLogger('parent')\n",
        "    parent_logger.info(f\"Pid:{os.getpid()}\")\n",
        "\n",
        "    # Setup processes\n",
        "    procs = [Process(target=process1), Process(target=process2)]\n",
        "\n",
        "    # Start processes\n",
        "    for proc in procs:\n",
        "        proc.start()\n",
        "\n",
        "    # Run to completion\n",
        "    for proc in procs:\n",
        "        proc.join()\n",
        "\n",
        "# Setup simple logging\n",
        "logging.basicConfig(level=logging.INFO)\n",
        "\n",
        "# Execute main\n",
        "if __name__ == '__main__':\n",
        "    main()"
      ],
      "outputs": [],
      "execution_count": null,
      "metadata": {
        "collapsed": true,
        "jupyter": {
          "source_hidden": false,
          "outputs_hidden": false
        },
        "nteract": {
          "transient": {
            "deleting": false
          }
        },
        "execution": {
          "iopub.status.busy": "2024-02-17T20:07:06.295Z",
          "iopub.execute_input": "2024-02-17T20:07:06.298Z",
          "iopub.status.idle": "2024-02-17T20:07:06.350Z",
          "shell.execute_reply": "2024-02-17T20:07:06.358Z"
        }
      }
    },
    {
      "cell_type": "markdown",
      "source": [
        "python-ipc-examples/process_to_process-with-pipe"
      ],
      "metadata": {
        "nteract": {
          "transient": {
            "deleting": false
          }
        }
      }
    },
    {
      "cell_type": "code",
      "source": [
        "#!/usr/bin/env python3\n",
        "\n",
        "import logging\n",
        "import os\n",
        "import time\n",
        "import multiprocessing\n",
        "from multiprocessing import Process\n",
        "\n",
        "# Process1 logic\n",
        "def process1(pipe):\n",
        "    process1_logger = logging.getLogger('process1')\n",
        "    process1_logger.info(f\"Pid:{os.getpid()}\")\n",
        "\n",
        "    # Open the file descriptor\n",
        "    file = os.fdopen(pipe.fileno(), 'w')\n",
        "    process1_logger.info(\"Opened file descriptor\")\n",
        "\n",
        "    # Write 10 entries\n",
        "    for i in range(1,11):\n",
        "\n",
        "        # Attempt to write to our pipe until succession\n",
        "        while True:\n",
        "            try:\n",
        "                process1_logger.info(f\"Writing {int(i)}\")\n",
        "                file.write(f\"{i}\\n\")\n",
        "                file.flush()\n",
        "                if i % 6 == 0:\n",
        "                    process1_logger.info(\"Intentionally sleeping for 5 seconds\")\n",
        "                    time.sleep(5)\n",
        "                break\n",
        "            except:\n",
        "                pass\n",
        "\n",
        "    # Clean up pipe\n",
        "    pipe.close()\n",
        "\n",
        "    # Log completion\n",
        "    process1_logger.info(\"Finished process 1\")\n",
        "\n",
        "\n",
        "# Process2 logic\n",
        "def process2(pipe):\n",
        "    process2_logger = logging.getLogger('process2')\n",
        "    process2_logger.info(f\"Pid:{os.getpid()}\")\n",
        "\n",
        "    # Open the file descriptor\n",
        "    file = os.fdopen(pipe.fileno(), 'r')\n",
        "    process2_logger.info(\"Opened file descriptor\")\n",
        "\n",
        "    # Expect 10 entries\n",
        "    count = 0\n",
        "    while count < 10:\n",
        "        while True:\n",
        "            try:\n",
        "                line = file.readline()\n",
        "                process2_logger.info(f\"Read: {int(line)}\")\n",
        "                count += 1\n",
        "                break\n",
        "            except Exception:\n",
        "                pass\n",
        "\n",
        "    # Clean up pipe\n",
        "    pipe.close()\n",
        "\n",
        "    # Log completion\n",
        "    process2_logger.info(\"Finished process 2\")\n",
        "\n",
        "\n",
        "# Main\n",
        "def main():\n",
        "\n",
        "    # Setup parent logger and log pid\n",
        "    parent_logger = logging.getLogger('parent')\n",
        "    parent_logger.info(f\"Pid:{os.getpid()}\")\n",
        "\n",
        "    # Setup pipe\n",
        "    r, w = multiprocessing.Pipe(False)\n",
        "\n",
        "    # Setup processes\n",
        "    procs = [Process(target=process1, args=(w,)), Process(target=process2, args=(r,))]\n",
        "\n",
        "    # Start processes\n",
        "    for proc in procs:\n",
        "        proc.start()\n",
        "\n",
        "    # Run to completion\n",
        "    for proc in procs:\n",
        "        proc.join()\n",
        "\n",
        "# Setup simple logging\n",
        "logging.basicConfig(level=logging.INFO)\n",
        "\n",
        "# Execute main\n",
        "if __name__ == '__main__':\n",
        "    main()"
      ],
      "outputs": [],
      "execution_count": null,
      "metadata": {
        "collapsed": true,
        "jupyter": {
          "source_hidden": false,
          "outputs_hidden": false
        },
        "nteract": {
          "transient": {
            "deleting": false
          }
        }
      }
    },
    {
      "cell_type": "markdown",
      "source": [
        "python-ipc-examples/process_to_process-with-pipe\n",
        "\n"
      ],
      "metadata": {
        "nteract": {
          "transient": {
            "deleting": false
          }
        }
      }
    },
    {
      "cell_type": "code",
      "source": [
        "#!/usr/bin/env python3\n",
        "\n",
        "import logging\n",
        "import os\n",
        "import time\n",
        "from multiprocessing import Process, Array\n",
        "# On MacPro 5,1, module gave Illegal instruction: 4\n",
        "# Installing non-wheel version with non-wheel dependencies\n",
        "# in clean venv works\n",
        "#\n",
        "# pip install zerorpc --no-binary :all:\n",
        "import zerorpc\n",
        "\n",
        "# Process1 logic\n",
        "def process1():\n",
        "    process1_logger = logging.getLogger('process1')\n",
        "    process1_logger.info(f\"Pid:{os.getpid()}\")\n",
        "\n",
        "    class RPC(object):\n",
        "        def __init__(self):\n",
        "            self.value = 0\n",
        "\n",
        "        def get_item(self):\n",
        "            self.value += 1\n",
        "            process1_logger.info(f\"Writing {self.value}\")\n",
        "            return self.value\n",
        "\n",
        "    # Setup an RPC Server\n",
        "    s = zerorpc.Server(RPC())\n",
        "    s.bind(\"tcp://0.0.0.0:4242\")\n",
        "\n",
        "    # Run the server without background'ing for 5 seconds\n",
        "    # (s.run() will block)\n",
        "    zerorpc.gevent.spawn(s.run)\n",
        "    zerorpc.gevent.sleep(5)\n",
        "\n",
        "    # Log completion\n",
        "    process1_logger.info(\"Finished process 1\")\n",
        "\n",
        "\n",
        "# Process2 logic\n",
        "def process2():\n",
        "    process2_logger = logging.getLogger('process2')\n",
        "    process2_logger.info(f\"Pid:{os.getpid()}\")\n",
        "\n",
        "    c = zerorpc.Client()\n",
        "    c.connect(\"tcp://127.0.0.1:4242\")\n",
        "\n",
        "    # Expect 10 entries\n",
        "    for i in range(10):\n",
        "        while True:\n",
        "            try:\n",
        "                line = c.get_item()\n",
        "                process2_logger.info(f\"Read: {int(line)}\")\n",
        "                break\n",
        "            except Exception:\n",
        "                pass\n",
        "\n",
        "    # Log completion\n",
        "    process2_logger.info(\"Finished process 2\")\n",
        "\n",
        "\n",
        "# Main\n",
        "def main():\n",
        "\n",
        "    # Setup parent logger and log pid\n",
        "    parent_logger = logging.getLogger('parent')\n",
        "    parent_logger.info(f\"Pid:{os.getpid()}\")\n",
        "\n",
        "    # Setup shared memory using Array (multiprocessing)\n",
        "    arr = Array('i', [-1] * 10)\n",
        "\n",
        "    # Setup processes\n",
        "    procs = [Process(target=process1), Process(target=process2)]\n",
        "\n",
        "    # Start processes\n",
        "    for proc in procs:\n",
        "        proc.start()\n",
        "\n",
        "    # Run to completion\n",
        "    for proc in procs:\n",
        "        proc.join()\n",
        "\n",
        "# Setup simple logging\n",
        "logging.basicConfig(level=logging.INFO)\n",
        "\n",
        "# Execute main\n",
        "if __name__ == '__main__':\n",
        "    main()"
      ],
      "outputs": [],
      "execution_count": null,
      "metadata": {
        "collapsed": true,
        "jupyter": {
          "source_hidden": false,
          "outputs_hidden": false
        },
        "nteract": {
          "transient": {
            "deleting": false
          }
        }
      }
    },
    {
      "cell_type": "markdown",
      "source": [
        "python-ipc-examples/process_to_process-with-sharedmemory"
      ],
      "metadata": {
        "nteract": {
          "transient": {
            "deleting": false
          }
        }
      }
    },
    {
      "cell_type": "code",
      "source": [
        "#!/usr/bin/env python3\n",
        "\n",
        "import logging\n",
        "import os\n",
        "import time\n",
        "from multiprocessing import Process, Array\n",
        "\n",
        "# Process1 logic\n",
        "def process1(shared):\n",
        "    process1_logger = logging.getLogger('process1')\n",
        "    process1_logger.info(f\"Pid:{os.getpid()}\")\n",
        "\n",
        "    # Write 10 entries\n",
        "    for i in range(1,11):\n",
        "\n",
        "        # Attempt to write to our shared memory until succession\n",
        "        while True:\n",
        "            try:\n",
        "                process1_logger.info(f\"Writing {int(i)}\")\n",
        "                shared[i-1] = i\n",
        "                if i % 6 == 0:\n",
        "                    process1_logger.info(\"Intentionally sleeping for 5 seconds\")\n",
        "                    time.sleep(5)\n",
        "                break\n",
        "            except Exception as e:\n",
        "                print(str(e))\n",
        "                pass\n",
        "\n",
        "    # Log completion\n",
        "    process1_logger.info(\"Finished process 1\")\n",
        "\n",
        "\n",
        "# Process2 logic\n",
        "def process2(shared):\n",
        "    process2_logger = logging.getLogger('process2')\n",
        "    process2_logger.info(f\"Pid:{os.getpid()}\")\n",
        "\n",
        "    # Expect 10 entries\n",
        "    for i in range(10):\n",
        "        while True:\n",
        "            try:\n",
        "                line = shared[i]\n",
        "                if line == -1:\n",
        "                    process2_logger.info(\"Data not available sleeping for 1 second before retrying\")\n",
        "                    time.sleep(1)\n",
        "                    raise Exception('pending')\n",
        "                process2_logger.info(f\"Read: {int(line)}\")\n",
        "                break\n",
        "            except Exception:\n",
        "                pass\n",
        "\n",
        "    # Log completion\n",
        "    process2_logger.info(\"Finished process 2\")\n",
        "\n",
        "\n",
        "# Main\n",
        "def main():\n",
        "\n",
        "    # Setup parent logger and log pid\n",
        "    parent_logger = logging.getLogger('parent')\n",
        "    parent_logger.info(f\"Pid:{os.getpid()}\")\n",
        "\n",
        "    # Setup shared memory using Array (multiprocessing)\n",
        "    arr = Array('i', [-1] * 10)\n",
        "\n",
        "    # Setup processes\n",
        "    procs = [Process(target=process1, args=(arr,)), Process(target=process2, args=(arr,))]\n",
        "\n",
        "    # Start processes\n",
        "    for proc in procs:\n",
        "        proc.start()\n",
        "\n",
        "    # Run to completion\n",
        "    for proc in procs:\n",
        "        proc.join()\n",
        "\n",
        "# Setup simple logging\n",
        "logging.basicConfig(level=logging.INFO)\n",
        "\n",
        "# Execute main\n",
        "if __name__ == '__main__':\n",
        "    main()"
      ],
      "outputs": [],
      "execution_count": null,
      "metadata": {
        "collapsed": true,
        "jupyter": {
          "source_hidden": false,
          "outputs_hidden": false
        },
        "nteract": {
          "transient": {
            "deleting": false
          }
        }
      }
    }
  ],
  "metadata": {
    "kernel_info": {
      "name": "python3"
    },
    "language_info": {
      "name": "python",
      "version": "3.12.2",
      "mimetype": "text/x-python",
      "codemirror_mode": {
        "name": "ipython",
        "version": 3
      },
      "pygments_lexer": "ipython3",
      "nbconvert_exporter": "python",
      "file_extension": ".py"
    },
    "kernelspec": {
      "argv": [
        "/Users/josu/mambaforge/envs/my_conda/bin/python3",
        "-m",
        "ipykernel_launcher",
        "-f",
        "{connection_file}"
      ],
      "display_name": "Python 3 (ipykernel)",
      "language": "python",
      "metadata": {
        "debugger": true
      },
      "name": "python3"
    },
    "nteract": {
      "version": "0.28.0"
    }
  },
  "nbformat": 4,
  "nbformat_minor": 0
}