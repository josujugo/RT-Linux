{
  "cells": [
    {
      "cell_type": "markdown",
      "source": [
        "Los ejemplos están basados en esta página\n",
        "\n",
        "https://medium.com/analytics-vidhya/asyncio-threading-and-multiprocessing-in-python-4f5ff6ca75e8"
      ],
      "metadata": {
        "nteract": {
          "transient": {
            "deleting": false
          }
        }
      }
    },
    {
      "cell_type": "markdown",
      "source": [
        "### Envio de mensajes\n",
        "\n",
        "Ejemplo de ejecución de dos tareas de forma secuencial."
      ],
      "metadata": {
        "nteract": {
          "transient": {
            "deleting": false
          }
        }
      }
    },
    {
      "cell_type": "code",
      "source": [
        "#Utilidad Python para tener timestamp de forma automática\n",
        "import logging\n",
        "import time\n",
        "\n",
        "#configuración del logger\n",
        "\n",
        "logger_format = '%(asctime)s:%(threadName)s:%(message)s'\n",
        "logging.basicConfig(format=logger_format, level=logging.INFO, datefmt=\"%H:%M:%S\")\n",
        "\n",
        "\n",
        "num_word_mapping = {1: 'ONE', 2: 'TWO', 3: \"THREE\", 4: \"FOUR\", 5: \"FIVE\", 6: \"SIX\", 7: \"SEVEN\", 8: \"EIGHT\",\n",
        "                   9: \"NINE\", 10: \"TEN\"}\n",
        "\n",
        "# Tarea básica: envio de mensaje\n",
        "\n",
        "def delay_message(delay, message):\n",
        "    logging.info(f\"{message} received\")\n",
        "    time.sleep(delay)\n",
        "    logging.info(f\"Printing {message}\")\n",
        "\n",
        "def main():\n",
        "    logging.info(\"Main started\")\n",
        "    delay_message(2, num_word_mapping[2])\n",
        "    delay_message(3, num_word_mapping[3])\n",
        "    logging.info(\"Main Ended\")\n",
        "\n",
        "main()"
      ],
      "outputs": [
        {
          "output_type": "stream",
          "name": "stderr",
          "text": [
            "23:03:33:MainThread:Main started\n",
            "23:03:33:MainThread:TWO received\n",
            "23:03:35:MainThread:Printing TWO\n",
            "23:03:35:MainThread:THREE received\n",
            "23:03:38:MainThread:Printing THREE\n",
            "23:03:38:MainThread:Main Ended\n"
          ]
        }
      ],
      "execution_count": 1,
      "metadata": {
        "collapsed": true,
        "jupyter": {
          "source_hidden": false,
          "outputs_hidden": false
        },
        "nteract": {
          "transient": {
            "deleting": false
          }
        },
        "execution": {
          "iopub.status.busy": "2024-02-16T22:03:33.114Z",
          "iopub.execute_input": "2024-02-16T22:03:33.120Z",
          "iopub.status.idle": "2024-02-16T22:03:38.169Z",
          "shell.execute_reply": "2024-02-16T22:03:38.180Z"
        }
      }
    },
    {
      "cell_type": "markdown",
      "source": [
        "### Concurrencia con hilos (threads)\n",
        "\n",
        "Ejecución en paralelo, con espacio compartido"
      ],
      "metadata": {
        "nteract": {
          "transient": {
            "deleting": false
          }
        }
      }
    },
    {
      "cell_type": "code",
      "source": [
        "import threading\n",
        "\n",
        "def main():\n",
        "    logging.info(\"Main started\")\n",
        "    threads = [threading.Thread(target=delay_message, args=(delay, message)) for delay, message in zip([2, 3, 4, 5, 6], \n",
        "                                                                            [num_word_mapping[2], num_word_mapping[3], num_word_mapping[4], num_word_mapping[5], num_word_mapping[6]])]\n",
        "    \n",
        "    # Se ejecutan los hilos\n",
        "    \n",
        "    for thread in threads:\n",
        "        thread.start()\n",
        "        \n",
        "    # Se espera que acaben los hilos (sincronización)\n",
        "    for thread in threads:\n",
        "        thread.join() # waits for thread to complete its task\n",
        "    logging.info(\"Main Ended\")\n",
        "main()"
      ],
      "outputs": [
        {
          "output_type": "stream",
          "name": "stderr",
          "text": [
            "23:13:19:MainThread:Main started\n",
            "23:13:19:Thread-24 (delay_message):TWO received\n",
            "23:13:19:Thread-25 (delay_message):THREE received\n",
            "23:13:19:Thread-26 (delay_message):FOUR received\n",
            "23:13:19:Thread-27 (delay_message):FIVE received\n",
            "23:13:19:Thread-28 (delay_message):SIX received\n",
            "23:13:21:Thread-24 (delay_message):Printing TWO\n",
            "23:13:22:Thread-25 (delay_message):Printing THREE\n",
            "23:13:23:Thread-26 (delay_message):Printing FOUR\n",
            "23:13:24:Thread-27 (delay_message):Printing FIVE\n",
            "23:13:25:Thread-28 (delay_message):Printing SIX\n",
            "23:13:25:MainThread:Main Ended\n"
          ]
        }
      ],
      "execution_count": 8,
      "metadata": {
        "collapsed": true,
        "jupyter": {
          "source_hidden": false,
          "outputs_hidden": false
        },
        "nteract": {
          "transient": {
            "deleting": false
          }
        },
        "execution": {
          "iopub.status.busy": "2024-02-16T22:13:19.180Z",
          "iopub.execute_input": "2024-02-16T22:13:19.247Z",
          "iopub.status.idle": "2024-02-16T22:13:25.195Z",
          "shell.execute_reply": "2024-02-16T22:13:25.214Z"
        }
      }
    },
    {
      "cell_type": "code",
      "source": [
        "import threading\n",
        "\n",
        "def main():\n",
        "    logging.info(\"Main started\")\n",
        "    threads = [threading.Thread(target=delay_message, args=(delay, message)) for delay, message in zip([2, 3, 4, 5, 6], \n",
        "                                                                            [num_word_mapping[2], num_word_mapping[3], num_word_mapping[4], num_word_mapping[5], num_word_mapping[6]])]\n",
        "    \n",
        "    # Se ejecutan los hilos\n",
        "    \n",
        "    for thread in threads:\n",
        "        thread.start()\n",
        "        \n",
        "    logging.info(\"Main Ended\")\n",
        "main()"
      ],
      "outputs": [
        {
          "output_type": "stream",
          "name": "stderr",
          "text": [
            "23:13:09:MainThread:Main started\n",
            "23:13:09:Thread-19 (delay_message):TWO received\n",
            "23:13:09:Thread-20 (delay_message):THREE received\n",
            "23:13:09:Thread-21 (delay_message):FOUR received\n",
            "23:13:09:Thread-22 (delay_message):FIVE received\n",
            "23:13:09:Thread-23 (delay_message):SIX received\n",
            "23:13:09:MainThread:Main Ended\n",
            "23:13:11:Thread-19 (delay_message):Printing TWO\n",
            "23:13:12:Thread-20 (delay_message):Printing THREE\n",
            "23:13:13:Thread-21 (delay_message):Printing FOUR\n",
            "23:13:14:Thread-22 (delay_message):Printing FIVE\n",
            "23:13:15:Thread-23 (delay_message):Printing SIX\n"
          ]
        }
      ],
      "execution_count": 7,
      "metadata": {
        "collapsed": true,
        "jupyter": {
          "source_hidden": false,
          "outputs_hidden": false
        },
        "nteract": {
          "transient": {
            "deleting": false
          }
        },
        "execution": {
          "iopub.status.busy": "2024-02-16T22:13:09.652Z",
          "iopub.execute_input": "2024-02-16T22:13:09.656Z",
          "iopub.status.idle": "2024-02-16T22:13:09.688Z",
          "shell.execute_reply": "2024-02-16T22:13:09.693Z"
        }
      }
    },
    {
      "cell_type": "markdown",
      "source": [
        "### Reutilización de hilos\n",
        "\n",
        "Utilización de uns estructura para los hilos."
      ],
      "metadata": {
        "nteract": {
          "transient": {
            "deleting": false
          }
        }
      }
    },
    {
      "cell_type": "code",
      "source": [
        "import concurrent.futures as cf\n",
        "import logging\n",
        "import time\n",
        "\n",
        "logger_format = '%(asctime)s:%(threadName)s:%(message)s'\n",
        "logging.basicConfig(format=logger_format, level=logging.INFO, datefmt=\"%H:%M:%S\")\n",
        "\n",
        "num_word_mapping = {1: 'ONE', 2: 'TWO', 3: \"THREE\", 4: \"FOUR\", 5: \"FIVE\", 6: \"SIX\", 7: \"SEVEN\", 8: \"EIGHT\",\n",
        "                    9: \"NINE\", 10: \"TEN\"}\n",
        "    \n",
        "def delay_message(delay, message):\n",
        "    logging.info(f\"{message} received\")\n",
        "    time.sleep(delay)\n",
        "    logging.info(f\"Printing {message}\")\n",
        "    return message\n",
        "\n",
        "\n",
        "if __name__ == '__main__':\n",
        "    with cf.ThreadPoolExecutor(max_workers=2) as executor:\n",
        "        future_to_mapping = {executor.submit(delay_message, i, num_word_mapping[i]): num_word_mapping[i] for i in\n",
        "                             range(2, 7)}\n",
        "        for future in cf.as_completed(future_to_mapping):\n",
        "            logging.info(f\"{future.result()} Done\")"
      ],
      "outputs": [
        {
          "output_type": "stream",
          "name": "stderr",
          "text": [
            "23:10:13:ThreadPoolExecutor-1_0:TWO received\n",
            "23:10:13:ThreadPoolExecutor-1_1:THREE received\n",
            "23:10:15:ThreadPoolExecutor-1_0:Printing TWO\n",
            "23:10:15:ThreadPoolExecutor-1_0:FOUR received\n",
            "23:10:15:MainThread:TWO Done\n",
            "23:10:16:ThreadPoolExecutor-1_1:Printing THREE\n",
            "23:10:16:ThreadPoolExecutor-1_1:FIVE received\n",
            "23:10:16:MainThread:THREE Done\n",
            "23:10:19:ThreadPoolExecutor-1_0:Printing FOUR\n",
            "23:10:19:ThreadPoolExecutor-1_0:SIX received\n",
            "23:10:19:MainThread:FOUR Done\n",
            "23:10:21:ThreadPoolExecutor-1_1:Printing FIVE\n",
            "23:10:21:MainThread:FIVE Done\n",
            "23:10:25:ThreadPoolExecutor-1_0:Printing SIX\n",
            "23:10:25:MainThread:SIX Done\n"
          ]
        }
      ],
      "execution_count": 5,
      "metadata": {
        "collapsed": true,
        "jupyter": {
          "source_hidden": false,
          "outputs_hidden": false
        },
        "nteract": {
          "transient": {
            "deleting": false
          }
        },
        "execution": {
          "iopub.status.busy": "2024-02-16T22:10:13.445Z",
          "iopub.execute_input": "2024-02-16T22:10:13.448Z",
          "iopub.status.idle": "2024-02-16T22:10:25.479Z",
          "shell.execute_reply": "2024-02-16T22:10:25.499Z"
        }
      }
    },
    {
      "cell_type": "markdown",
      "source": [
        "### Concurrencia con la libreria AsyncIO\n",
        "\n",
        "* Coroutine: A diferencia de una función convencional con un único punto de salida, una coroutine puede pausar y reanudar su ejecución. La creación de una coroutine es tan simple como utilizar la palabra clave async antes de declarar una función.\n",
        "\n",
        "* Bucle de eventos o coordinador: Coroutine que gestiona otras coroutines. Puedes pensar en ella como un planificador o maestro.\n",
        "\n",
        "* Coroutine, Tasks, y Future son objetos awaitable. Una coroutine puede esperar en objetos awaitable. Mientras una coroutine está esperando en un objeto awaitable, su ejecución se suspende temporalmente y se reanuda después de que Future haya terminado."
      ],
      "metadata": {
        "nteract": {
          "transient": {
            "deleting": false
          }
        }
      }
    },
    {
      "cell_type": "code",
      "source": [
        "import asyncio\n",
        "import logging\n",
        "import time\n",
        "\n",
        "logger_format = '%(asctime)s:%(threadName)s:%(message)s'\n",
        "logging.basicConfig(format=logger_format, level=logging.INFO, datefmt=\"%H:%M:%S\")\n",
        "\n",
        "num_word_mapping = {1: 'ONE', 2: 'TWO', 3: \"THREE\", 4: \"FOUR\", 5: \"FIVE\", 6: \"SIX\", 7: \"SEVEN\", 8: \"EIGHT\",\n",
        "                   9: \"NINE\", 10: \"TEN\"}\n",
        "\n",
        "async def delay_message(delay, message):\n",
        "    logging.info(f\"{message} received\")\n",
        "    await asyncio.sleep(delay) # time.sleep is blocking call. Hence, it cannot be awaited and we have to use asyncio.sleep\n",
        "    logging.info(f\"Printing {message}\")\n",
        "    \n",
        "async def main():\n",
        "    logging.info(\"Main started\")\n",
        "    logging.info(f'Current registered tasks: {len(asyncio.all_tasks())}')\n",
        "    logging.info(\"Creating tasks\")\n",
        "    task_1 = asyncio.create_task(delay_message(2, num_word_mapping[2])) \n",
        "    task_2 = asyncio.create_task(delay_message(3, num_word_mapping[3]))\n",
        "    logging.info(f'Current registered tasks: {len(asyncio.all_tasks())}')\n",
        "    await task_1 # suspends execution of coroutine and gives control back to event loop while awaiting task completion.\n",
        "    await task_2\n",
        "    logging.info(\"Main Ended\")\n",
        "\n",
        "await main()"
      ],
      "outputs": [
        {
          "output_type": "stream",
          "name": "stderr",
          "text": [
            "23:14:38:MainThread:Main started\n",
            "23:14:38:MainThread:Current registered tasks: 2\n",
            "23:14:38:MainThread:Creating tasks\n",
            "23:14:38:MainThread:Current registered tasks: 4\n",
            "23:14:38:MainThread:TWO received\n",
            "23:14:38:MainThread:THREE received\n",
            "23:14:40:MainThread:Printing TWO\n",
            "23:14:41:MainThread:Printing THREE\n",
            "23:14:41:MainThread:Main Ended\n"
          ]
        }
      ],
      "execution_count": 9,
      "metadata": {
        "collapsed": true,
        "jupyter": {
          "source_hidden": false,
          "outputs_hidden": false
        },
        "nteract": {
          "transient": {
            "deleting": false
          }
        },
        "execution": {
          "iopub.status.busy": "2024-02-16T22:14:38.702Z",
          "iopub.execute_input": "2024-02-16T22:14:38.705Z",
          "iopub.status.idle": "2024-02-16T22:14:41.711Z",
          "shell.execute_reply": "2024-02-16T22:14:41.722Z"
        }
      }
    },
    {
      "cell_type": "markdown",
      "source": [
        "### Otra opción para crear tareas AsyncIO\n",
        "\n",
        "Usando asyncio.gather para crear varias tareas de una vez"
      ],
      "metadata": {
        "nteract": {
          "transient": {
            "deleting": false
          }
        }
      }
    },
    {
      "cell_type": "code",
      "source": [
        "import asyncio\n",
        "import logging\n",
        "import time\n",
        "\n",
        "logger_format = '%(asctime)s:%(threadName)s:%(message)s'\n",
        "logging.basicConfig(format=logger_format, level=logging.INFO, datefmt=\"%H:%M:%S\")\n",
        "\n",
        "num_word_mapping = {1: 'ONE', 2: 'TWO', 3: \"THREE\", 4: \"FOUR\", 5: \"FIVE\", 6: \"SIX\", 7: \"SEVEN\", 8: \"EIGHT\",\n",
        "                   9: \"NINE\", 10: \"TEN\"}\n",
        "\n",
        "async def delay_message(delay, message):\n",
        "    logging.info(f\"{message} received\")\n",
        "    await asyncio.sleep(delay) # time.sleep is blocking call. Hence, it cannot be awaited and we have to use asyncio.sleep\n",
        "    logging.info(f\"Printing {message}\")\n",
        "    \n",
        "async def main():\n",
        "    logging.info(\"Main started\")\n",
        "    logging.info(\"Creating multiple tasks with asyncio.gather\")\n",
        "    await asyncio.gather(*[delay_message(i+1, num_word_mapping[i+1]) for i in range(5)]) # awaits completion of all tasks\n",
        "    logging.info(\"Main Ended\")\n",
        "\n",
        "\n",
        "await main()"
      ],
      "outputs": [
        {
          "output_type": "stream",
          "name": "stderr",
          "text": [
            "23:15:49:MainThread:Main started\n",
            "23:15:49:MainThread:Creating multiple tasks with asyncio.gather\n",
            "23:15:49:MainThread:ONE received\n",
            "23:15:49:MainThread:TWO received\n",
            "23:15:49:MainThread:THREE received\n",
            "23:15:49:MainThread:FOUR received\n",
            "23:15:49:MainThread:FIVE received\n",
            "23:15:50:MainThread:Printing ONE\n",
            "23:15:51:MainThread:Printing TWO\n",
            "23:15:52:MainThread:Printing THREE\n",
            "23:15:53:MainThread:Printing FOUR\n",
            "23:15:54:MainThread:Printing FIVE\n",
            "23:15:54:MainThread:Main Ended\n"
          ]
        }
      ],
      "execution_count": 10,
      "metadata": {
        "collapsed": true,
        "jupyter": {
          "source_hidden": false,
          "outputs_hidden": false
        },
        "nteract": {
          "transient": {
            "deleting": false
          }
        },
        "execution": {
          "iopub.status.busy": "2024-02-16T22:15:49.296Z",
          "iopub.execute_input": "2024-02-16T22:15:49.301Z",
          "iopub.status.idle": "2024-02-16T22:15:54.307Z",
          "shell.execute_reply": "2024-02-16T22:15:54.323Z"
        }
      }
    },
    {
      "cell_type": "markdown",
      "source": [
        "### Caution about Blocking Calls in AsyncIO Tasks\n",
        "\n",
        "As I told earlier, an asyncio task has an exclusive right to use CPU until it volunteers to give up. If by mistake a blocking call sneaks into your task, it is going to stall the progress of the program."
      ],
      "metadata": {
        "nteract": {
          "transient": {
            "deleting": false
          }
        }
      }
    },
    {
      "cell_type": "code",
      "source": [
        "import asyncio\n",
        "import logging\n",
        "import time\n",
        "\n",
        "logger_format = '%(asctime)s:%(threadName)s:%(message)s'\n",
        "logging.basicConfig(format=logger_format, level=logging.INFO, datefmt=\"%H:%M:%S\")\n",
        "\n",
        "num_word_mapping = {1: 'ONE', 2: 'TWO', 3: \"THREE\", 4: \"FOUR\", 5: \"FIVE\", 6: \"SIX\", 7: \"SEVEN\", 8: \"EIGHT\",\n",
        "                   9: \"NINE\", 10: \"TEN\"}\n",
        "\n",
        "async def delay_message(delay, message):\n",
        "    logging.info(f\"{message} received\")\n",
        "    if message != 'THREE':\n",
        "        await asyncio.sleep(delay) # non-blocking call. gives up execution\n",
        "    else:\n",
        "        time.sleep(delay) # blocking call\n",
        "    logging.info(f\"Printing {message}\")\n",
        "    \n",
        "async def main():\n",
        "    logging.info(\"Main started\")\n",
        "    logging.info(\"Creating multiple tasks with asyncio.gather\")\n",
        "    await asyncio.gather(*[delay_message(i+1, num_word_mapping[i+1]) for i in range(5)]) # awaits completion of all tasks\n",
        "    logging.info(\"Main Ended\")\n",
        "\n",
        "if __name__ == '__main__':\n",
        "\n",
        "    await main() # creats an envent loop"
      ],
      "outputs": [
        {
          "output_type": "stream",
          "name": "stderr",
          "text": [
            "14:34:46:MainThread:Main started\n",
            "14:34:46:MainThread:Creating multiple tasks with asyncio.gather\n",
            "14:34:46:MainThread:ONE received\n",
            "14:34:46:MainThread:TWO received\n",
            "14:34:46:MainThread:THREE received\n",
            "14:34:49:MainThread:Printing THREE\n",
            "14:34:49:MainThread:FOUR received\n",
            "14:34:49:MainThread:FIVE received\n",
            "14:34:49:MainThread:Printing ONE\n",
            "14:34:49:MainThread:Printing TWO\n",
            "14:34:53:MainThread:Printing FOUR\n",
            "14:34:54:MainThread:Printing FIVE\n",
            "14:34:54:MainThread:Main Ended\n"
          ]
        }
      ],
      "execution_count": 22,
      "metadata": {
        "collapsed": true,
        "jupyter": {
          "source_hidden": false,
          "outputs_hidden": false
        },
        "nteract": {
          "transient": {
            "deleting": false
          }
        },
        "execution": {
          "iopub.status.busy": "2024-02-07T13:34:46.668Z",
          "iopub.execute_input": "2024-02-07T13:34:46.672Z",
          "iopub.status.idle": "2024-02-07T13:34:54.682Z",
          "shell.execute_reply": "2024-02-07T13:34:54.691Z"
        }
      }
    },
    {
      "cell_type": "markdown",
      "source": [
        "### Race Conditions\n",
        "\n",
        "A multithreaded code can quickly fall apart if it doesn’t account for race conditions. It especially becomes tricky when using external libraries, as we need to verify if they support multithreaded code. For example, the session object of popular requests module is not thread-safe. Hence, trying to parallelize network requests using a session object can produce unintended results."
      ],
      "metadata": {
        "nteract": {
          "transient": {
            "deleting": false
          }
        }
      }
    },
    {
      "cell_type": "code",
      "source": [
        "import concurrent.futures as cf\n",
        "import logging\n",
        "import time\n",
        "\n",
        "logger_format = '%(asctime)s:%(threadName)s:%(message)s'\n",
        "logging.basicConfig(format=logger_format, level=logging.INFO, datefmt=\"%H:%M:%S\")\n",
        "\n",
        "class DbUpdate:\n",
        "    def __init__(self):\n",
        "        self.value = 0\n",
        "\n",
        "    def update(self):\n",
        "        logging.info(\"Update Started\")\n",
        "        logging.info(\"Sleeping\")\n",
        "        time.sleep(2) # thread gets switched\n",
        "        logging.info(\"Reading Value From Db\")\n",
        "        tmp = self.value**2 + 1\n",
        "        logging.info(\"Updating Value\")\n",
        "        self.value = tmp\n",
        "        logging.info(\"Update Finished\")\n",
        "        \n",
        "db = DbUpdate()\n",
        "with cf.ThreadPoolExecutor(max_workers=5) as executor:\n",
        "    updates = [executor.submit(db.update) for _ in range(10)]\n",
        "logging.info(f\"Final value is {db.value}\")"
      ],
      "outputs": [
        {
          "output_type": "stream",
          "name": "stderr",
          "text": [
            "14:37:05:ThreadPoolExecutor-3_0:Update Started\n",
            "14:37:05:ThreadPoolExecutor-3_1:Update Started\n",
            "14:37:05:ThreadPoolExecutor-3_2:Update Started\n",
            "14:37:05:ThreadPoolExecutor-3_3:Update Started\n",
            "14:37:05:ThreadPoolExecutor-3_4:Update Started\n",
            "14:37:05:ThreadPoolExecutor-3_0:Sleeping\n",
            "14:37:05:ThreadPoolExecutor-3_1:Sleeping\n",
            "14:37:05:ThreadPoolExecutor-3_2:Sleeping\n",
            "14:37:05:ThreadPoolExecutor-3_3:Sleeping\n",
            "14:37:05:ThreadPoolExecutor-3_4:Sleeping\n",
            "14:37:07:ThreadPoolExecutor-3_0:Reading Value From Db\n",
            "14:37:07:ThreadPoolExecutor-3_2:Reading Value From Db\n",
            "14:37:07:ThreadPoolExecutor-3_1:Reading Value From Db\n",
            "14:37:07:ThreadPoolExecutor-3_3:Reading Value From Db\n",
            "14:37:07:ThreadPoolExecutor-3_0:Updating Value\n",
            "14:37:07:ThreadPoolExecutor-3_2:Updating Value\n",
            "14:37:07:ThreadPoolExecutor-3_1:Updating Value\n",
            "14:37:07:ThreadPoolExecutor-3_3:Updating Value\n",
            "14:37:07:ThreadPoolExecutor-3_4:Reading Value From Db\n",
            "14:37:07:ThreadPoolExecutor-3_0:Update Finished\n",
            "14:37:07:ThreadPoolExecutor-3_2:Update Finished\n",
            "14:37:07:ThreadPoolExecutor-3_1:Update Finished\n",
            "14:37:07:ThreadPoolExecutor-3_3:Update Finished\n",
            "14:37:07:ThreadPoolExecutor-3_4:Updating Value\n",
            "14:37:07:ThreadPoolExecutor-3_0:Update Started\n",
            "14:37:07:ThreadPoolExecutor-3_2:Update Started\n",
            "14:37:07:ThreadPoolExecutor-3_1:Update Started\n",
            "14:37:07:ThreadPoolExecutor-3_3:Update Started\n",
            "14:37:07:ThreadPoolExecutor-3_4:Update Finished\n",
            "14:37:07:ThreadPoolExecutor-3_0:Sleeping\n",
            "14:37:07:ThreadPoolExecutor-3_2:Sleeping\n",
            "14:37:07:ThreadPoolExecutor-3_1:Sleeping\n",
            "14:37:07:ThreadPoolExecutor-3_3:Sleeping\n",
            "14:37:07:ThreadPoolExecutor-3_4:Update Started\n",
            "14:37:07:ThreadPoolExecutor-3_4:Sleeping\n",
            "14:37:09:ThreadPoolExecutor-3_2:Reading Value From Db\n",
            "14:37:09:ThreadPoolExecutor-3_1:Reading Value From Db\n",
            "14:37:09:ThreadPoolExecutor-3_3:Reading Value From Db\n",
            "14:37:09:ThreadPoolExecutor-3_4:Reading Value From Db\n",
            "14:37:09:ThreadPoolExecutor-3_0:Reading Value From Db\n",
            "14:37:09:ThreadPoolExecutor-3_2:Updating Value\n",
            "14:37:09:ThreadPoolExecutor-3_1:Updating Value\n",
            "14:37:09:ThreadPoolExecutor-3_3:Updating Value\n",
            "14:37:09:ThreadPoolExecutor-3_4:Updating Value\n",
            "14:37:09:ThreadPoolExecutor-3_0:Updating Value\n",
            "14:37:09:ThreadPoolExecutor-3_2:Update Finished\n",
            "14:37:09:ThreadPoolExecutor-3_1:Update Finished\n",
            "14:37:09:ThreadPoolExecutor-3_3:Update Finished\n",
            "14:37:09:ThreadPoolExecutor-3_4:Update Finished\n",
            "14:37:09:ThreadPoolExecutor-3_0:Update Finished\n",
            "14:37:09:MainThread:Final value is 5\n"
          ]
        }
      ],
      "execution_count": 24,
      "metadata": {
        "collapsed": true,
        "jupyter": {
          "source_hidden": false,
          "outputs_hidden": false
        },
        "nteract": {
          "transient": {
            "deleting": false
          }
        },
        "execution": {
          "iopub.status.busy": "2024-02-07T13:37:05.132Z",
          "iopub.execute_input": "2024-02-07T13:37:05.137Z",
          "iopub.status.idle": "2024-02-07T13:37:09.198Z",
          "shell.execute_reply": "2024-02-07T13:37:09.214Z"
        }
      }
    },
    {
      "cell_type": "code",
      "source": [
        "import concurrent.futures as cf\n",
        "import logging\n",
        "import time\n",
        "import threading\n",
        "\n",
        "LOCK = threading.Lock()\n",
        "\n",
        "logger_format = '%(asctime)s:%(threadName)s:%(message)s'\n",
        "logging.basicConfig(format=logger_format, level=logging.INFO, datefmt=\"%H:%M:%S\")\n",
        "\n",
        "class DbUpdate:\n",
        "    def __init__(self):\n",
        "        self.value = 0\n",
        "\n",
        "    def update(self):\n",
        "        logging.info(\"Update Started\")\n",
        "        logging.info(\"Sleeping\")\n",
        "        time.sleep(2) # thread gets switched\n",
        "        with LOCK:\n",
        "            logging.info(\"Reading Value From Db\")\n",
        "            tmp = self.value**2 + 1\n",
        "            logging.info(\"Updating Value\")\n",
        "            self.value = tmp\n",
        "            logging.info(\"Update Finished\")\n",
        "        \n",
        "db = DbUpdate()\n",
        "with cf.ThreadPoolExecutor(max_workers=5) as executor:\n",
        "    updates = [executor.submit(db.update) for _ in range(2)]\n",
        "logging.info(f\"Final value is {db.value}\")"
      ],
      "outputs": [
        {
          "output_type": "stream",
          "name": "stderr",
          "text": [
            "14:38:41:ThreadPoolExecutor-4_0:Update Started\n",
            "14:38:41:ThreadPoolExecutor-4_1:Update Started\n",
            "14:38:41:ThreadPoolExecutor-4_0:Sleeping\n",
            "14:38:41:ThreadPoolExecutor-4_1:Sleeping\n",
            "14:38:43:ThreadPoolExecutor-4_0:Reading Value From Db\n",
            "14:38:43:ThreadPoolExecutor-4_0:Updating Value\n",
            "14:38:43:ThreadPoolExecutor-4_0:Update Finished\n",
            "14:38:43:ThreadPoolExecutor-4_1:Reading Value From Db\n",
            "14:38:43:ThreadPoolExecutor-4_1:Updating Value\n",
            "14:38:43:ThreadPoolExecutor-4_1:Update Finished\n",
            "14:38:43:MainThread:Final value is 2\n"
          ]
        }
      ],
      "execution_count": 25,
      "metadata": {
        "collapsed": true,
        "jupyter": {
          "source_hidden": false,
          "outputs_hidden": false
        },
        "nteract": {
          "transient": {
            "deleting": false
          }
        },
        "execution": {
          "iopub.status.busy": "2024-02-07T13:38:41.825Z",
          "iopub.execute_input": "2024-02-07T13:38:41.830Z",
          "iopub.status.idle": "2024-02-07T13:38:43.849Z",
          "shell.execute_reply": "2024-02-07T13:38:43.860Z"
        }
      }
    },
    {
      "cell_type": "markdown",
      "source": [
        "### Race Conditions are Rare with AsyncIO\n",
        "\n",
        "Since the task has complete control on when to suspend execution, race conditions are rare with asyncio."
      ],
      "metadata": {
        "nteract": {
          "transient": {
            "deleting": false
          }
        }
      }
    },
    {
      "cell_type": "code",
      "source": [
        "import asyncio\n",
        "import logging\n",
        "import time\n",
        "\n",
        "logger_format = '%(asctime)s:%(threadName)s:%(message)s'\n",
        "logging.basicConfig(format=logger_format, level=logging.INFO, datefmt=\"%H:%M:%S\")\n",
        "\n",
        "class DbUpdate:\n",
        "    def __init__(self):\n",
        "        self.value = 0\n",
        "\n",
        "    async def update(self):\n",
        "        logging.info(\"Update Started\")\n",
        "        logging.info(\"Sleeping\")\n",
        "        await asyncio.sleep(1)\n",
        "        logging.info(\"Reading Value From Db\")\n",
        "        tmp = self.value**2 + 1\n",
        "        logging.info(\"Updating Value\")\n",
        "        self.value = tmp\n",
        "        logging.info(\"Update Finished\")\n",
        "        \n",
        "async def main():\n",
        "    db = DbUpdate()\n",
        "    await asyncio.gather(*[db.update() for _ in range(10)])\n",
        "    logging.info(f\"Final value is {db.value}\")\n",
        "    \n",
        "await main()"
      ],
      "outputs": [
        {
          "output_type": "stream",
          "name": "stderr",
          "text": [
            "14:42:17:MainThread:Update Started\n",
            "14:42:17:MainThread:Sleeping\n",
            "14:42:17:MainThread:Update Started\n",
            "14:42:17:MainThread:Sleeping\n",
            "14:42:17:MainThread:Update Started\n",
            "14:42:17:MainThread:Sleeping\n",
            "14:42:17:MainThread:Update Started\n",
            "14:42:17:MainThread:Sleeping\n",
            "14:42:17:MainThread:Update Started\n",
            "14:42:17:MainThread:Sleeping\n",
            "14:42:17:MainThread:Update Started\n",
            "14:42:17:MainThread:Sleeping\n",
            "14:42:17:MainThread:Update Started\n",
            "14:42:17:MainThread:Sleeping\n",
            "14:42:17:MainThread:Update Started\n",
            "14:42:17:MainThread:Sleeping\n",
            "14:42:17:MainThread:Update Started\n",
            "14:42:17:MainThread:Sleeping\n",
            "14:42:17:MainThread:Update Started\n",
            "14:42:17:MainThread:Sleeping\n",
            "14:42:18:MainThread:Reading Value From Db\n",
            "14:42:18:MainThread:Updating Value\n",
            "14:42:18:MainThread:Update Finished\n",
            "14:42:18:MainThread:Reading Value From Db\n",
            "14:42:18:MainThread:Updating Value\n",
            "14:42:18:MainThread:Update Finished\n",
            "14:42:18:MainThread:Reading Value From Db\n",
            "14:42:18:MainThread:Updating Value\n",
            "14:42:18:MainThread:Update Finished\n",
            "14:42:18:MainThread:Reading Value From Db\n",
            "14:42:18:MainThread:Updating Value\n",
            "14:42:18:MainThread:Update Finished\n",
            "14:42:18:MainThread:Reading Value From Db\n",
            "14:42:18:MainThread:Updating Value\n",
            "14:42:18:MainThread:Update Finished\n",
            "14:42:18:MainThread:Reading Value From Db\n",
            "14:42:18:MainThread:Updating Value\n",
            "14:42:18:MainThread:Update Finished\n",
            "14:42:18:MainThread:Reading Value From Db\n",
            "14:42:18:MainThread:Updating Value\n",
            "14:42:18:MainThread:Update Finished\n",
            "14:42:18:MainThread:Reading Value From Db\n",
            "14:42:18:MainThread:Updating Value\n",
            "14:42:18:MainThread:Update Finished\n",
            "14:42:18:MainThread:Reading Value From Db\n",
            "14:42:18:MainThread:Updating Value\n",
            "14:42:18:MainThread:Update Finished\n",
            "14:42:18:MainThread:Reading Value From Db\n",
            "14:42:18:MainThread:Updating Value\n",
            "14:42:18:MainThread:Update Finished\n",
            "14:42:18:MainThread:Final value is 3791862310265926082868235028027893277370233152247388584761734150717768254410341175325352026\n"
          ]
        }
      ],
      "execution_count": 29,
      "metadata": {
        "collapsed": true,
        "jupyter": {
          "source_hidden": false,
          "outputs_hidden": false
        },
        "nteract": {
          "transient": {
            "deleting": false
          }
        },
        "execution": {
          "iopub.status.busy": "2024-02-07T13:42:17.526Z",
          "iopub.execute_input": "2024-02-07T13:42:17.532Z",
          "iopub.status.idle": "2024-02-07T13:42:18.597Z",
          "shell.execute_reply": "2024-02-07T13:42:18.610Z"
        }
      }
    },
    {
      "cell_type": "markdown",
      "source": [
        "As you can see, once the task got resumed after sleeping, it didn’t give up control until it completed the execution of coroutine. With threading, thread swapping in not very obvious, but with asyncio, we can control on when exactly the coroutine execution should be suspended. Nonetheless, it can go wrong when two coroutines enter a deadlock."
      ],
      "metadata": {
        "nteract": {
          "transient": {
            "deleting": false
          }
        }
      }
    },
    {
      "cell_type": "code",
      "source": [
        "import asyncio \n",
        "\n",
        "async def foo():\n",
        "    await boo()\n",
        "    \n",
        "async def boo():\n",
        "    await foo()\n",
        "    \n",
        "async def main():\n",
        "    await asyncio.gather(*[foo(), boo()])\n",
        "    \n",
        "await main()"
      ],
      "outputs": [
        {
          "output_type": "error",
          "ename": "RecursionError",
          "evalue": "maximum recursion depth exceeded",
          "traceback": [
            "\u001b[0;31m---------------------------------------------------------------------------\u001b[0m",
            "\u001b[0;31mRecursionError\u001b[0m                            Traceback (most recent call last)",
            "Cell \u001b[0;32mIn[30], line 12\u001b[0m\n\u001b[1;32m      9\u001b[0m \u001b[38;5;28;01masync\u001b[39;00m \u001b[38;5;28;01mdef\u001b[39;00m \u001b[38;5;21mmain\u001b[39m():\n\u001b[1;32m     10\u001b[0m     \u001b[38;5;28;01mawait\u001b[39;00m asyncio\u001b[38;5;241m.\u001b[39mgather(\u001b[38;5;241m*\u001b[39m[foo(), boo()])\n\u001b[0;32m---> 12\u001b[0m \u001b[38;5;28;01mawait\u001b[39;00m main()\n",
            "Cell \u001b[0;32mIn[30], line 10\u001b[0m, in \u001b[0;36mmain\u001b[0;34m()\u001b[0m\n\u001b[1;32m      9\u001b[0m \u001b[38;5;28;01masync\u001b[39;00m \u001b[38;5;28;01mdef\u001b[39;00m \u001b[38;5;21mmain\u001b[39m():\n\u001b[0;32m---> 10\u001b[0m     \u001b[38;5;28;01mawait\u001b[39;00m asyncio\u001b[38;5;241m.\u001b[39mgather(\u001b[38;5;241m*\u001b[39m[foo(), boo()])\n",
            "Cell \u001b[0;32mIn[30], line 4\u001b[0m, in \u001b[0;36mfoo\u001b[0;34m()\u001b[0m\n\u001b[1;32m      3\u001b[0m \u001b[38;5;28;01masync\u001b[39;00m \u001b[38;5;28;01mdef\u001b[39;00m \u001b[38;5;21mfoo\u001b[39m():\n\u001b[0;32m----> 4\u001b[0m     \u001b[38;5;28;01mawait\u001b[39;00m boo()\n",
            "Cell \u001b[0;32mIn[30], line 7\u001b[0m, in \u001b[0;36mboo\u001b[0;34m()\u001b[0m\n\u001b[1;32m      6\u001b[0m \u001b[38;5;28;01masync\u001b[39;00m \u001b[38;5;28;01mdef\u001b[39;00m \u001b[38;5;21mboo\u001b[39m():\n\u001b[0;32m----> 7\u001b[0m     \u001b[38;5;28;01mawait\u001b[39;00m foo()\n",
            "Cell \u001b[0;32mIn[30], line 4\u001b[0m, in \u001b[0;36mfoo\u001b[0;34m()\u001b[0m\n\u001b[1;32m      3\u001b[0m \u001b[38;5;28;01masync\u001b[39;00m \u001b[38;5;28;01mdef\u001b[39;00m \u001b[38;5;21mfoo\u001b[39m():\n\u001b[0;32m----> 4\u001b[0m     \u001b[38;5;28;01mawait\u001b[39;00m boo()\n",
            "Cell \u001b[0;32mIn[30], line 7\u001b[0m, in \u001b[0;36mboo\u001b[0;34m()\u001b[0m\n\u001b[1;32m      6\u001b[0m \u001b[38;5;28;01masync\u001b[39;00m \u001b[38;5;28;01mdef\u001b[39;00m \u001b[38;5;21mboo\u001b[39m():\n\u001b[0;32m----> 7\u001b[0m     \u001b[38;5;28;01mawait\u001b[39;00m foo()\n",
            "    \u001b[0;31m[... skipping similar frames: boo at line 7 (1491 times), foo at line 4 (1491 times)]\u001b[0m\n",
            "Cell \u001b[0;32mIn[30], line 4\u001b[0m, in \u001b[0;36mfoo\u001b[0;34m()\u001b[0m\n\u001b[1;32m      3\u001b[0m \u001b[38;5;28;01masync\u001b[39;00m \u001b[38;5;28;01mdef\u001b[39;00m \u001b[38;5;21mfoo\u001b[39m():\n\u001b[0;32m----> 4\u001b[0m     \u001b[38;5;28;01mawait\u001b[39;00m boo()\n",
            "Cell \u001b[0;32mIn[30], line 7\u001b[0m, in \u001b[0;36mboo\u001b[0;34m()\u001b[0m\n\u001b[1;32m      6\u001b[0m \u001b[38;5;28;01masync\u001b[39;00m \u001b[38;5;28;01mdef\u001b[39;00m \u001b[38;5;21mboo\u001b[39m():\n\u001b[0;32m----> 7\u001b[0m     \u001b[38;5;28;01mawait\u001b[39;00m \u001b[43mfoo\u001b[49m\u001b[43m(\u001b[49m\u001b[43m)\u001b[49m\n",
            "\u001b[0;31mRecursionError\u001b[0m: maximum recursion depth exceeded"
          ]
        }
      ],
      "execution_count": 30,
      "metadata": {
        "collapsed": true,
        "jupyter": {
          "source_hidden": false,
          "outputs_hidden": false
        },
        "nteract": {
          "transient": {
            "deleting": false
          }
        },
        "execution": {
          "iopub.status.busy": "2024-02-07T13:43:50.522Z",
          "iopub.execute_input": "2024-02-07T13:43:50.528Z"
        }
      }
    },
    {
      "cell_type": "markdown",
      "source": [
        "### Multiprocessing\n",
        "\n",
        "As aforementioned, multiprocessing comes really handy when implementing CPU intensive programs. Below code executes merge sorting on 1000lists with 30000 elements. Bear with me if below implementation of merge sort is bit clumsy.\n",
        "\n",
        "\n",
        "#### Synchronous version"
      ],
      "metadata": {
        "nteract": {
          "transient": {
            "deleting": false
          }
        }
      }
    },
    {
      "cell_type": "code",
      "source": [
        "import concurrent.futures as cf\n",
        "import logging\n",
        "import math\n",
        "import numpy as np\n",
        "import time\n",
        "import threading\n",
        "\n",
        "logger_format = '%(asctime)s:%(threadName)s:%(message)s'\n",
        "logging.basicConfig(format=logger_format, level=logging.INFO, datefmt=\"%H:%M:%S\")\n",
        "\n",
        "r_lists = [[np.random.randint(500000) for _ in range(30000)] for _ in range(1000)]\n",
        "\n",
        "def merge(l_1, l_2):\n",
        "    out = []\n",
        "    key_1 = 0\n",
        "    key_2 = 0\n",
        "    for i in range(len(l_1) + len(l_2)):\n",
        "        if l_1[key_1] < l_2[key_2]:\n",
        "            out.append(l_1[key_1])\n",
        "            key_1 += 1\n",
        "            if key_1 == len(l_1):\n",
        "                out = out + l_2[key_2:]\n",
        "                break\n",
        "        else:\n",
        "            out.append(l_2[key_2])\n",
        "            key_2 += 1\n",
        "            if key_2 == len(l_2):\n",
        "                out = out + l_1[key_1:]\n",
        "                break\n",
        "    return out\n",
        "\n",
        "def merge_sort(l):\n",
        "    if len(l) == 1:\n",
        "        return l\n",
        "    mid_point = math.floor((len(l) + 1) / 2)\n",
        "    l_1, l_2 = merge_sort(l[:mid_point]), merge_sort(l[mid_point:])\n",
        "    out = merge(l_1, l_2)\n",
        "    del l_1, l_2\n",
        "    return out\n",
        "\n",
        "if __name__ == '__main__':\n",
        "    logging.info(\"Starting Sorting\")\n",
        "    for r_list in r_lists:\n",
        "        _ = merge_sort(r_list)\n",
        "    logging.info(\"Sorting Completed\")"
      ],
      "outputs": [
        {
          "output_type": "stream",
          "name": "stderr",
          "text": [
            "14:46:30:MainThread:Starting Sorting\n",
            "14:47:32:MainThread:Sorting Completed\n"
          ]
        }
      ],
      "execution_count": 31,
      "metadata": {
        "collapsed": true,
        "jupyter": {
          "source_hidden": false,
          "outputs_hidden": false
        },
        "nteract": {
          "transient": {
            "deleting": false
          }
        },
        "execution": {
          "iopub.status.busy": "2024-02-07T13:45:27.433Z",
          "iopub.execute_input": "2024-02-07T13:45:27.439Z",
          "iopub.status.idle": "2024-02-07T13:47:32.366Z",
          "shell.execute_reply": "2024-02-07T13:47:32.383Z"
        }
      }
    },
    {
      "cell_type": "markdown",
      "source": [
        "#### Asynchronous version"
      ],
      "metadata": {
        "nteract": {
          "transient": {
            "deleting": false
          }
        }
      }
    },
    {
      "cell_type": "code",
      "source": [
        "import concurrent.futures as cf\n",
        "import logging\n",
        "import math\n",
        "import numpy as np\n",
        "import time\n",
        "import threading\n",
        "\n",
        "logger_format = '%(asctime)s:%(threadName)s:%(message)s'\n",
        "logging.basicConfig(format=logger_format, level=logging.INFO, datefmt=\"%H:%M:%S\")\n",
        "\n",
        "r_lists = [[np.random.randint(500000) for _ in range(30000)] for _ in range(1000)]\n",
        "\n",
        "def merge(l_1, l_2):\n",
        "    out = []\n",
        "    key_1 = 0\n",
        "    key_2 = 0\n",
        "    for i in range(len(l_1) + len(l_2)):\n",
        "        if l_1[key_1] < l_2[key_2]:\n",
        "            out.append(l_1[key_1])\n",
        "            key_1 += 1\n",
        "            if key_1 == len(l_1):\n",
        "                out = out + l_2[key_2:]\n",
        "                break\n",
        "        else:\n",
        "            out.append(l_2[key_2])\n",
        "            key_2 += 1\n",
        "            if key_2 == len(l_2):\n",
        "                out = out + l_1[key_1:]\n",
        "                break\n",
        "    return out\n",
        "\n",
        "def merge_sort(l):\n",
        "    if len(l) == 1:\n",
        "        return l\n",
        "    mid_point = math.floor((len(l) + 1) / 2)\n",
        "    l_1, l_2 = merge_sort(l[:mid_point]), merge_sort(l[mid_point:])\n",
        "    out = merge(l_1, l_2)\n",
        "    del l_1, l_2\n",
        "    return out\n",
        "\n",
        "if __name__ == '__main__':\n",
        "    logging.info(\"Starting Sorting\")\n",
        "    with cf.ProcessPoolExecutor() as executor:\n",
        "        sorted_lists_futures = [executor.submit(merge_sort, r_list) for r_list in r_lists]\n",
        "    logging.info(\"Sorting Completed\")"
      ],
      "outputs": [],
      "execution_count": null,
      "metadata": {
        "collapsed": true,
        "jupyter": {
          "source_hidden": false,
          "outputs_hidden": false
        },
        "nteract": {
          "transient": {
            "deleting": false
          }
        },
        "execution": {
          "iopub.status.busy": "2024-02-07T13:47:40.486Z",
          "iopub.execute_input": "2024-02-07T13:47:40.523Z"
        }
      }
    }
  ],
  "metadata": {
    "kernel_info": {
      "name": "python3"
    },
    "language_info": {
      "name": "python",
      "version": "3.12.2",
      "mimetype": "text/x-python",
      "codemirror_mode": {
        "name": "ipython",
        "version": 3
      },
      "pygments_lexer": "ipython3",
      "nbconvert_exporter": "python",
      "file_extension": ".py"
    },
    "kernelspec": {
      "argv": [
        "/Users/josu/anaconda3/envs/test/bin/python",
        "-m",
        "ipykernel_launcher",
        "-f",
        "{connection_file}"
      ],
      "display_name": "Python 3 (ipykernel)",
      "language": "python",
      "metadata": {
        "debugger": true
      },
      "name": "python3"
    },
    "nteract": {
      "version": "0.28.0"
    }
  },
  "nbformat": 4,
  "nbformat_minor": 0
}