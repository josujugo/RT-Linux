{
  "cells": [
    {
      "cell_type": "markdown",
      "source": [
        "Los ejemplos están basados en esta página\n",
        "\n",
        "https://medium.com/analytics-vidhya/asyncio-threading-and-multiprocessing-in-python-4f5ff6ca75e8"
      ],
      "metadata": {
        "nteract": {
          "transient": {
            "deleting": false
          }
        }
      }
    },
    {
      "cell_type": "markdown",
      "source": [
        "### Envio de mensajes\n",
        "\n",
        "Ejemplo de ejecución de dos tareas de forma secuencial."
      ],
      "metadata": {
        "nteract": {
          "transient": {
            "deleting": false
          }
        }
      }
    },
    {
      "cell_type": "code",
      "source": [
        "#Utilidad Python para tener timestamp de forma automática\n",
        "import logging\n",
        "import time\n",
        "\n",
        "#configuración del logger\n",
        "\n",
        "logger_format = '%(asctime)s:%(threadName)s:%(message)s'\n",
        "logging.basicConfig(format=logger_format, level=logging.INFO, datefmt=\"%H:%M:%S\")\n",
        "\n",
        "\n",
        "num_word_mapping = {1: 'ONE', 2: 'TWO', 3: \"THREE\", 4: \"FOUR\", 5: \"FIVE\", 6: \"SIX\", 7: \"SEVEN\", 8: \"EIGHT\",\n",
        "                   9: \"NINE\", 10: \"TEN\"}\n",
        "\n",
        "# Tarea básica: envio de mensaje\n",
        "\n",
        "def delay_message(delay, message):\n",
        "    logging.info(f\"{message} received\")\n",
        "    time.sleep(delay)\n",
        "    logging.info(f\"Printing {message}\")\n",
        "    return message\n",
        "\n",
        "def main():\n",
        "    logging.info(\"Main started\")\n",
        "    delay_message(2, num_word_mapping[2])\n",
        "    delay_message(3, num_word_mapping[3])\n",
        "    logging.info(\"Main Ended\")\n",
        "\n",
        "main()"
      ],
      "outputs": [
        {
          "output_type": "stream",
          "name": "stderr",
          "text": [
            "17:52:04:MainThread:Main started\n",
            "17:52:04:MainThread:TWO received\n",
            "17:52:06:MainThread:Printing TWO\n",
            "17:52:06:MainThread:THREE received\n",
            "17:52:09:MainThread:Printing THREE\n",
            "17:52:09:MainThread:Main Ended\n"
          ]
        }
      ],
      "execution_count": 5,
      "metadata": {
        "collapsed": true,
        "jupyter": {
          "source_hidden": false,
          "outputs_hidden": false
        },
        "nteract": {
          "transient": {
            "deleting": false
          }
        },
        "execution": {
          "iopub.status.busy": "2024-02-17T16:52:04.063Z",
          "iopub.execute_input": "2024-02-17T16:52:04.069Z",
          "iopub.status.idle": "2024-02-17T16:52:09.082Z",
          "shell.execute_reply": "2024-02-17T16:52:09.157Z"
        }
      }
    },
    {
      "cell_type": "markdown",
      "source": [
        "### Concurrencia con hilos (threads)\n",
        "\n",
        "Ejecución en \"paralelo\", con espacio compartido"
      ],
      "metadata": {
        "nteract": {
          "transient": {
            "deleting": false
          }
        }
      }
    },
    {
      "cell_type": "code",
      "source": [
        "import threading\n",
        "\n",
        "def main():\n",
        "    logging.info(\"Main started\")\n",
        "    threads = [threading.Thread(target=delay_message, args=(delay, message)) for delay, message in zip([2, 3, 4, 5, 6], \n",
        "                                                                            [num_word_mapping[2], num_word_mapping[3], num_word_mapping[4], num_word_mapping[5], num_word_mapping[6]])]\n",
        "    \n",
        "    # Se ejecutan los hilos\n",
        "    \n",
        "    for thread in threads:\n",
        "        thread.start()\n",
        "        \n",
        "    # Se espera que acaben los hilos (sincronización)\n",
        "    for thread in threads:\n",
        "        thread.join() # waits for thread to complete its task\n",
        "    logging.info(\"Main Ended\")\n",
        "main()"
      ],
      "outputs": [
        {
          "output_type": "stream",
          "name": "stderr",
          "text": [
            "17:52:12:MainThread:Main started\n",
            "17:52:12:Thread-14 (delay_message):TWO received\n",
            "17:52:12:Thread-15 (delay_message):THREE received\n",
            "17:52:12:Thread-16 (delay_message):FOUR received\n",
            "17:52:12:Thread-17 (delay_message):FIVE received\n",
            "17:52:12:Thread-18 (delay_message):SIX received\n",
            "17:52:14:Thread-14 (delay_message):Printing TWO\n",
            "17:52:15:Thread-15 (delay_message):Printing THREE\n",
            "17:52:16:Thread-16 (delay_message):Printing FOUR\n",
            "17:52:17:Thread-17 (delay_message):Printing FIVE\n",
            "17:52:18:Thread-18 (delay_message):Printing SIX\n",
            "17:52:18:MainThread:Main Ended\n"
          ]
        }
      ],
      "execution_count": 6,
      "metadata": {
        "collapsed": true,
        "jupyter": {
          "source_hidden": false,
          "outputs_hidden": false
        },
        "nteract": {
          "transient": {
            "deleting": false
          }
        },
        "execution": {
          "iopub.status.busy": "2024-02-17T16:52:12.519Z",
          "iopub.execute_input": "2024-02-17T16:52:12.525Z",
          "iopub.status.idle": "2024-02-17T16:52:18.522Z",
          "shell.execute_reply": "2024-02-17T16:52:18.540Z"
        }
      }
    },
    {
      "cell_type": "code",
      "source": [
        "import threading\n",
        "\n",
        "def main():\n",
        "    logging.info(\"Main started\")\n",
        "    threads = [threading.Thread(target=delay_message, args=(delay, message)) for delay, message in zip([2, 3, 4, 5, 6], \n",
        "                                                                            [num_word_mapping[2], num_word_mapping[3], num_word_mapping[4], num_word_mapping[5], num_word_mapping[6]])]\n",
        "    \n",
        "    # Se ejecutan los hilos\n",
        "    \n",
        "    for thread in threads:\n",
        "        thread.start()\n",
        "        \n",
        "    logging.info(\"Main Ended\")\n",
        "main()"
      ],
      "outputs": [
        {
          "output_type": "stream",
          "name": "stderr",
          "text": [
            "17:52:23:MainThread:Main started\n",
            "17:52:23:Thread-19 (delay_message):TWO received\n",
            "17:52:23:Thread-20 (delay_message):THREE received\n",
            "17:52:23:Thread-21 (delay_message):FOUR received\n",
            "17:52:23:Thread-22 (delay_message):FIVE received\n",
            "17:52:23:Thread-23 (delay_message):SIX received\n",
            "17:52:23:MainThread:Main Ended\n",
            "17:52:25:Thread-19 (delay_message):Printing TWO\n",
            "17:52:26:Thread-20 (delay_message):Printing THREE\n",
            "17:52:27:Thread-21 (delay_message):Printing FOUR\n",
            "17:52:28:Thread-22 (delay_message):Printing FIVE\n",
            "17:52:29:Thread-23 (delay_message):Printing SIX\n"
          ]
        }
      ],
      "execution_count": 7,
      "metadata": {
        "collapsed": true,
        "jupyter": {
          "source_hidden": false,
          "outputs_hidden": false
        },
        "nteract": {
          "transient": {
            "deleting": false
          }
        },
        "execution": {
          "iopub.status.busy": "2024-02-17T16:52:23.690Z",
          "iopub.execute_input": "2024-02-17T16:52:23.700Z",
          "iopub.status.idle": "2024-02-17T16:52:23.733Z",
          "shell.execute_reply": "2024-02-17T16:52:23.737Z"
        }
      }
    },
    {
      "cell_type": "markdown",
      "source": [
        "### Reutilización de hilos\n",
        "\n",
        "Utilización de uns estructura para los hilos."
      ],
      "metadata": {
        "nteract": {
          "transient": {
            "deleting": false
          }
        }
      }
    },
    {
      "cell_type": "code",
      "source": [
        "import concurrent.futures as cf\n",
        "\n",
        "\n",
        "with cf.ThreadPoolExecutor(max_workers=2) as executor:\n",
        "    future_to_mapping = {executor.submit(delay_message, i, num_word_mapping[i]): num_word_mapping[i] for i in range(2, 7)}\n",
        "    for future in cf.as_completed(future_to_mapping):\n",
        "            logging.info(f\"{future.result()} Done\")"
      ],
      "outputs": [
        {
          "output_type": "stream",
          "name": "stderr",
          "text": [
            "17:52:31:ThreadPoolExecutor-1_0:TWO received\n",
            "17:52:31:ThreadPoolExecutor-1_1:THREE received\n",
            "17:52:33:ThreadPoolExecutor-1_0:Printing TWO\n",
            "17:52:33:ThreadPoolExecutor-1_0:FOUR received\n",
            "17:52:33:MainThread:TWO Done\n",
            "17:52:34:ThreadPoolExecutor-1_1:Printing THREE\n",
            "17:52:34:ThreadPoolExecutor-1_1:FIVE received\n",
            "17:52:34:MainThread:THREE Done\n",
            "17:52:37:ThreadPoolExecutor-1_0:Printing FOUR\n",
            "17:52:37:ThreadPoolExecutor-1_0:SIX received\n",
            "17:52:37:MainThread:FOUR Done\n",
            "17:52:39:ThreadPoolExecutor-1_1:Printing FIVE\n",
            "17:52:39:MainThread:FIVE Done\n",
            "17:52:43:ThreadPoolExecutor-1_0:Printing SIX\n",
            "17:52:43:MainThread:SIX Done\n"
          ]
        }
      ],
      "execution_count": 8,
      "metadata": {
        "collapsed": true,
        "jupyter": {
          "source_hidden": false,
          "outputs_hidden": false
        },
        "nteract": {
          "transient": {
            "deleting": false
          }
        },
        "execution": {
          "iopub.status.busy": "2024-02-17T16:52:31.922Z",
          "iopub.execute_input": "2024-02-17T16:52:31.928Z",
          "iopub.status.idle": "2024-02-17T16:52:43.940Z",
          "shell.execute_reply": "2024-02-17T16:52:43.983Z"
        }
      }
    },
    {
      "cell_type": "markdown",
      "source": [
        "### Concurrencia con la libreria AsyncIO\n",
        "\n",
        "* Coroutine: A diferencia de una función convencional con un único punto de salida, una coroutine puede pausar y reanudar su ejecución. La creación de una coroutine es tan simple como utilizar la palabra clave async antes de declarar una función.\n",
        "\n",
        "* Bucle de eventos o coordinador: Coroutine que gestiona otras coroutines. Puedes pensar en ella como un planificador o maestro.\n",
        "\n",
        "* Coroutine, Tasks, y Future son objetos awaitable. Una coroutine puede esperar en objetos awaitable. Mientras una coroutine está esperando en un objeto awaitable, su ejecución se suspende temporalmente y se reanuda después de que Future haya terminado."
      ],
      "metadata": {
        "nteract": {
          "transient": {
            "deleting": false
          }
        }
      }
    },
    {
      "cell_type": "code",
      "source": [
        "import asyncio\n",
        "\n",
        "async def delay_message(delay, message):\n",
        "    logging.info(f\"{message} received\")\n",
        "    await asyncio.sleep(delay) # time.sleep is blocking call. Hence, it cannot be awaited and we have to use asyncio.sleep\n",
        "    logging.info(f\"Printing {message}\")\n",
        "    \n",
        "async def main():\n",
        "    logging.info(\"Main started\")\n",
        "    logging.info(f'Current registered tasks: {len(asyncio.all_tasks())}')\n",
        "    logging.info(\"Creating tasks\")\n",
        "    task_1 = asyncio.create_task(delay_message(2, num_word_mapping[2])) \n",
        "    task_2 = asyncio.create_task(delay_message(3, num_word_mapping[3]))\n",
        "    logging.info(f'Current registered tasks: {len(asyncio.all_tasks())}')\n",
        "    await task_1 # suspends execution of coroutine and gives control back to event loop while awaiting task completion.\n",
        "    await task_2\n",
        "    logging.info(\"Main Ended\")\n",
        "\n",
        "await main()"
      ],
      "outputs": [
        {
          "output_type": "stream",
          "name": "stderr",
          "text": [
            "17:52:43:MainThread:Main started\n",
            "17:52:43:MainThread:Current registered tasks: 2\n",
            "17:52:43:MainThread:Creating tasks\n",
            "17:52:43:MainThread:Current registered tasks: 4\n",
            "17:52:43:MainThread:TWO received\n",
            "17:52:43:MainThread:THREE received\n",
            "17:52:45:MainThread:Printing TWO\n",
            "17:52:46:MainThread:Printing THREE\n",
            "17:52:46:MainThread:Main Ended\n"
          ]
        }
      ],
      "execution_count": 9,
      "metadata": {
        "collapsed": true,
        "jupyter": {
          "source_hidden": false,
          "outputs_hidden": false
        },
        "nteract": {
          "transient": {
            "deleting": false
          }
        },
        "execution": {
          "iopub.status.busy": "2024-02-17T16:52:43.955Z",
          "iopub.execute_input": "2024-02-17T16:52:43.958Z",
          "iopub.status.idle": "2024-02-17T16:52:46.955Z",
          "shell.execute_reply": "2024-02-17T16:52:46.972Z"
        }
      }
    },
    {
      "cell_type": "markdown",
      "source": [
        "### Otra opción para crear tareas AsyncIO\n",
        "\n",
        "Usando asyncio.gather para crear varias tareas de una vez"
      ],
      "metadata": {
        "nteract": {
          "transient": {
            "deleting": false
          }
        }
      }
    },
    {
      "cell_type": "code",
      "source": [
        "async def main():\n",
        "    logging.info(\"Main started\")\n",
        "    logging.info(\"Creating multiple tasks with asyncio.gather\")\n",
        "    await asyncio.gather(*[delay_message(i+1, num_word_mapping[i+1]) for i in range(5)]) # awaits completion of all tasks\n",
        "    logging.info(\"Main Ended\")\n",
        "\n",
        "\n",
        "await main()"
      ],
      "outputs": [
        {
          "output_type": "stream",
          "name": "stderr",
          "text": [
            "17:52:52:MainThread:Main started\n",
            "17:52:52:MainThread:Creating multiple tasks with asyncio.gather\n",
            "17:52:52:MainThread:ONE received\n",
            "17:52:52:MainThread:TWO received\n",
            "17:52:52:MainThread:THREE received\n",
            "17:52:52:MainThread:FOUR received\n",
            "17:52:52:MainThread:FIVE received\n",
            "17:52:53:MainThread:Printing ONE\n",
            "17:52:54:MainThread:Printing TWO\n",
            "17:52:55:MainThread:Printing THREE\n",
            "17:52:56:MainThread:Printing FOUR\n",
            "17:52:57:MainThread:Printing FIVE\n",
            "17:52:57:MainThread:Main Ended\n"
          ]
        }
      ],
      "execution_count": 10,
      "metadata": {
        "collapsed": true,
        "jupyter": {
          "source_hidden": false,
          "outputs_hidden": false
        },
        "nteract": {
          "transient": {
            "deleting": false
          }
        },
        "execution": {
          "iopub.status.busy": "2024-02-17T16:52:52.133Z",
          "iopub.execute_input": "2024-02-17T16:52:52.137Z",
          "iopub.status.idle": "2024-02-17T16:52:57.101Z",
          "shell.execute_reply": "2024-02-17T16:52:57.138Z"
        }
      }
    },
    {
      "cell_type": "markdown",
      "source": [
        "### Cuidado con los bloques entre tareas ()\n",
        "\n",
        "Una tarea puede tener derecho exclusivo de la CPU, hasta que lo deje. Este hay que manejarlo de forma cuidadosa. Este es el caso de tareas Asyncio."
      ],
      "metadata": {
        "nteract": {
          "transient": {
            "deleting": false
          }
        }
      }
    },
    {
      "cell_type": "code",
      "source": [
        "async def delay_message(delay, message):\n",
        "    logging.info(f\"{message} received\")\n",
        "    if message != 'THREE':\n",
        "        await asyncio.sleep(delay) # non-blocking call. gives up execution\n",
        "    else:\n",
        "        time.sleep(delay) # blocking call\n",
        "    logging.info(f\"Printing {message}\")\n",
        "    \n",
        "async def main():\n",
        "    logging.info(\"Main started\")\n",
        "    logging.info(\"Creating multiple tasks with asyncio.gather\")\n",
        "    await asyncio.gather(*[delay_message(i+1, num_word_mapping[i+1]) for i in range(5)]) # awaits completion of all tasks\n",
        "    logging.info(\"Main Ended\")\n",
        "\n",
        "\n",
        "await main() # creats an envent loop"
      ],
      "outputs": [
        {
          "output_type": "stream",
          "name": "stderr",
          "text": [
            "17:53:09:MainThread:Main started\n",
            "17:53:09:MainThread:Creating multiple tasks with asyncio.gather\n",
            "17:53:09:MainThread:ONE received\n",
            "17:53:09:MainThread:TWO received\n",
            "17:53:09:MainThread:THREE received\n",
            "17:53:12:MainThread:Printing THREE\n",
            "17:53:12:MainThread:FOUR received\n",
            "17:53:12:MainThread:FIVE received\n",
            "17:53:12:MainThread:Printing ONE\n",
            "17:53:12:MainThread:Printing TWO\n",
            "17:53:16:MainThread:Printing FOUR\n",
            "17:53:17:MainThread:Printing FIVE\n",
            "17:53:17:MainThread:Main Ended\n"
          ]
        }
      ],
      "execution_count": 11,
      "metadata": {
        "collapsed": true,
        "jupyter": {
          "source_hidden": false,
          "outputs_hidden": false
        },
        "nteract": {
          "transient": {
            "deleting": false
          }
        },
        "execution": {
          "iopub.status.busy": "2024-02-17T16:53:09.904Z",
          "iopub.execute_input": "2024-02-17T16:53:09.913Z",
          "iopub.status.idle": "2024-02-17T16:53:17.885Z",
          "shell.execute_reply": "2024-02-17T16:53:17.900Z"
        }
      }
    },
    {
      "cell_type": "markdown",
      "source": [
        "### Race Conditions\n",
        "\n",
        "Un código multihilo puede verse afectado por las condiciones de carrera. Esto es especialmente complicado cuando se usan librerías externas, ya que necesitamos verificar si soportan código multihilo. Por ejemplo, el objeto session del popular módulo requests no es thread-safe.\n"
      ],
      "metadata": {
        "nteract": {
          "transient": {
            "deleting": false
          }
        }
      }
    },
    {
      "cell_type": "code",
      "source": [
        "import concurrent.futures as cf\n",
        "\n",
        "class DbUpdate:\n",
        "    def __init__(self):\n",
        "        self.value = 0\n",
        "\n",
        "    def update(self):\n",
        "        logging.info(\"Update Started\")\n",
        "        logging.info(\"Sleeping\")\n",
        "        time.sleep(2) # thread gets switched\n",
        "        logging.info(\"Reading Value From Db\")\n",
        "        tmp = self.value**2 + 1\n",
        "        logging.info(\"Updating Value\")\n",
        "        self.value = tmp\n",
        "        logging.info(\"Update Finished\")\n",
        "        \n",
        "db = DbUpdate()\n",
        "\n",
        "with cf.ThreadPoolExecutor(max_workers=5) as executor:\n",
        "    updates = [executor.submit(db.update) for _ in range(10)]\n",
        "\n",
        "logging.info(f\"Final value is {db.value}\")"
      ],
      "outputs": [
        {
          "output_type": "stream",
          "name": "stderr",
          "text": [
            "17:34:00:ThreadPoolExecutor-2_0:Update Started\n",
            "17:34:00:ThreadPoolExecutor-2_1:Update Started\n",
            "17:34:00:ThreadPoolExecutor-2_2:Update Started\n",
            "17:34:00:ThreadPoolExecutor-2_3:Update Started\n",
            "17:34:00:ThreadPoolExecutor-2_4:Update Started\n",
            "17:34:00:ThreadPoolExecutor-2_0:Sleeping\n",
            "17:34:00:ThreadPoolExecutor-2_1:Sleeping\n",
            "17:34:00:ThreadPoolExecutor-2_2:Sleeping\n",
            "17:34:00:ThreadPoolExecutor-2_3:Sleeping\n",
            "17:34:00:ThreadPoolExecutor-2_4:Sleeping\n",
            "17:34:02:ThreadPoolExecutor-2_0:Reading Value From Db\n",
            "17:34:02:ThreadPoolExecutor-2_1:Reading Value From Db\n",
            "17:34:02:ThreadPoolExecutor-2_3:Reading Value From Db\n",
            "17:34:02:ThreadPoolExecutor-2_4:Reading Value From Db\n",
            "17:34:02:ThreadPoolExecutor-2_2:Reading Value From Db\n",
            "17:34:02:ThreadPoolExecutor-2_0:Updating Value\n",
            "17:34:02:ThreadPoolExecutor-2_1:Updating Value\n",
            "17:34:02:ThreadPoolExecutor-2_3:Updating Value\n",
            "17:34:02:ThreadPoolExecutor-2_4:Updating Value\n",
            "17:34:02:ThreadPoolExecutor-2_2:Updating Value\n",
            "17:34:02:ThreadPoolExecutor-2_0:Update Finished\n",
            "17:34:02:ThreadPoolExecutor-2_1:Update Finished\n",
            "17:34:02:ThreadPoolExecutor-2_3:Update Finished\n",
            "17:34:02:ThreadPoolExecutor-2_4:Update Finished\n",
            "17:34:02:ThreadPoolExecutor-2_2:Update Finished\n",
            "17:34:02:ThreadPoolExecutor-2_0:Update Started\n",
            "17:34:02:ThreadPoolExecutor-2_1:Update Started\n",
            "17:34:02:ThreadPoolExecutor-2_3:Update Started\n",
            "17:34:02:ThreadPoolExecutor-2_4:Update Started\n",
            "17:34:02:ThreadPoolExecutor-2_4:Sleeping\n",
            "17:34:02:ThreadPoolExecutor-2_0:Sleeping\n",
            "17:34:02:ThreadPoolExecutor-2_1:Sleeping\n",
            "17:34:02:ThreadPoolExecutor-2_3:Sleeping\n",
            "17:34:02:ThreadPoolExecutor-2_2:Update Started\n",
            "17:34:02:ThreadPoolExecutor-2_2:Sleeping\n",
            "17:34:04:ThreadPoolExecutor-2_4:Reading Value From Db\n",
            "17:34:04:ThreadPoolExecutor-2_1:Reading Value From Db\n",
            "17:34:04:ThreadPoolExecutor-2_2:Reading Value From Db\n",
            "17:34:04:ThreadPoolExecutor-2_0:Reading Value From Db\n",
            "17:34:04:ThreadPoolExecutor-2_3:Reading Value From Db\n",
            "17:34:04:ThreadPoolExecutor-2_4:Updating Value\n",
            "17:34:04:ThreadPoolExecutor-2_1:Updating Value\n",
            "17:34:04:ThreadPoolExecutor-2_2:Updating Value\n",
            "17:34:04:ThreadPoolExecutor-2_0:Updating Value\n",
            "17:34:04:ThreadPoolExecutor-2_3:Updating Value\n",
            "17:34:04:ThreadPoolExecutor-2_4:Update Finished\n",
            "17:34:04:ThreadPoolExecutor-2_1:Update Finished\n",
            "17:34:04:ThreadPoolExecutor-2_2:Update Finished\n",
            "17:34:04:ThreadPoolExecutor-2_0:Update Finished\n",
            "17:34:04:ThreadPoolExecutor-2_3:Update Finished\n",
            "17:34:04:MainThread:Final value is 2\n"
          ]
        }
      ],
      "execution_count": 8,
      "metadata": {
        "collapsed": true,
        "jupyter": {
          "source_hidden": false,
          "outputs_hidden": false
        },
        "nteract": {
          "transient": {
            "deleting": false
          }
        },
        "execution": {
          "iopub.status.busy": "2024-02-17T16:34:00.568Z",
          "iopub.execute_input": "2024-02-17T16:34:00.572Z",
          "iopub.status.idle": "2024-02-17T16:34:04.640Z",
          "shell.execute_reply": "2024-02-17T16:34:04.648Z"
        }
      }
    },
    {
      "cell_type": "code",
      "source": [
        "LOCK = threading.Lock()\n",
        "\n",
        "class DbUpdate:\n",
        "    def __init__(self):\n",
        "        self.value = 0\n",
        "\n",
        "    def update(self):\n",
        "        logging.info(\"Update Started\")\n",
        "        logging.info(\"Sleeping\")\n",
        "        time.sleep(2) # thread gets switched\n",
        "        with LOCK:\n",
        "            logging.info(\"Reading Value From Db\")\n",
        "            tmp = self.value**2 + 1\n",
        "            logging.info(\"Updating Value\")\n",
        "            self.value = tmp\n",
        "            logging.info(\"Update Finished\")\n",
        "        \n",
        "db = DbUpdate()\n",
        "\n",
        "with cf.ThreadPoolExecutor(max_workers=5) as executor:\n",
        "    updates = [executor.submit(db.update) for _ in range(2)]\n",
        "logging.info(f\"Final value is {db.value}\")"
      ],
      "outputs": [
        {
          "output_type": "stream",
          "name": "stderr",
          "text": [
            "17:34:59:ThreadPoolExecutor-3_0:Update Started\n",
            "17:34:59:ThreadPoolExecutor-3_1:Update Started\n",
            "17:34:59:ThreadPoolExecutor-3_0:Sleeping\n",
            "17:34:59:ThreadPoolExecutor-3_1:Sleeping\n",
            "17:35:01:ThreadPoolExecutor-3_0:Reading Value From Db\n",
            "17:35:01:ThreadPoolExecutor-3_0:Updating Value\n",
            "17:35:01:ThreadPoolExecutor-3_0:Update Finished\n",
            "17:35:01:ThreadPoolExecutor-3_1:Reading Value From Db\n",
            "17:35:01:ThreadPoolExecutor-3_1:Updating Value\n",
            "17:35:01:ThreadPoolExecutor-3_1:Update Finished\n",
            "17:35:01:MainThread:Final value is 2\n"
          ]
        }
      ],
      "execution_count": 9,
      "metadata": {
        "collapsed": true,
        "jupyter": {
          "source_hidden": false,
          "outputs_hidden": false
        },
        "nteract": {
          "transient": {
            "deleting": false
          }
        },
        "execution": {
          "iopub.status.busy": "2024-02-17T16:34:59.874Z",
          "iopub.execute_input": "2024-02-17T16:34:59.878Z",
          "iopub.status.idle": "2024-02-17T16:35:01.888Z",
          "shell.execute_reply": "2024-02-17T16:35:01.901Z"
        }
      }
    },
    {
      "cell_type": "markdown",
      "source": [
        "### Versión con AsyncIO\n",
        "\n",
        "Dado que la tarea tiene el control total sobre cuándo suspender la ejecución, las condiciones de carrera son raras con asyncio."
      ],
      "metadata": {
        "nteract": {
          "transient": {
            "deleting": false
          }
        }
      }
    },
    {
      "cell_type": "code",
      "source": [
        "class DbUpdate:\n",
        "    def __init__(self):\n",
        "        self.value = 0\n",
        "\n",
        "    async def update(self):\n",
        "        logging.info(\"Update Started\")\n",
        "        logging.info(\"Sleeping\")\n",
        "        await asyncio.sleep(1)\n",
        "        logging.info(\"Reading Value From Db\")\n",
        "        tmp = self.value**2 + 1\n",
        "        logging.info(\"Updating Value\")\n",
        "        self.value = tmp\n",
        "        logging.info(\"Update Finished\")\n",
        "        \n",
        "async def main():\n",
        "    db = DbUpdate()\n",
        "    await asyncio.gather(*[db.update() for _ in range(10)])\n",
        "    logging.info(f\"Final value is {db.value}\")\n",
        "    \n",
        "await main()"
      ],
      "outputs": [
        {
          "output_type": "stream",
          "name": "stderr",
          "text": [
            "17:55:02:MainThread:Update Started\n",
            "17:55:02:MainThread:Sleeping\n",
            "17:55:02:MainThread:Update Started\n",
            "17:55:02:MainThread:Sleeping\n",
            "17:55:02:MainThread:Update Started\n",
            "17:55:02:MainThread:Sleeping\n",
            "17:55:02:MainThread:Update Started\n",
            "17:55:02:MainThread:Sleeping\n",
            "17:55:02:MainThread:Update Started\n",
            "17:55:02:MainThread:Sleeping\n",
            "17:55:02:MainThread:Update Started\n",
            "17:55:02:MainThread:Sleeping\n",
            "17:55:02:MainThread:Update Started\n",
            "17:55:02:MainThread:Sleeping\n",
            "17:55:02:MainThread:Update Started\n",
            "17:55:02:MainThread:Sleeping\n",
            "17:55:02:MainThread:Update Started\n",
            "17:55:02:MainThread:Sleeping\n",
            "17:55:02:MainThread:Update Started\n",
            "17:55:02:MainThread:Sleeping\n",
            "17:55:03:MainThread:Reading Value From Db\n",
            "17:55:03:MainThread:Updating Value\n",
            "17:55:03:MainThread:Update Finished\n",
            "17:55:03:MainThread:Reading Value From Db\n",
            "17:55:03:MainThread:Updating Value\n",
            "17:55:03:MainThread:Update Finished\n",
            "17:55:03:MainThread:Reading Value From Db\n",
            "17:55:03:MainThread:Updating Value\n",
            "17:55:03:MainThread:Update Finished\n",
            "17:55:03:MainThread:Reading Value From Db\n",
            "17:55:03:MainThread:Updating Value\n",
            "17:55:03:MainThread:Update Finished\n",
            "17:55:03:MainThread:Reading Value From Db\n",
            "17:55:03:MainThread:Updating Value\n",
            "17:55:03:MainThread:Update Finished\n",
            "17:55:03:MainThread:Reading Value From Db\n",
            "17:55:03:MainThread:Updating Value\n",
            "17:55:03:MainThread:Update Finished\n",
            "17:55:03:MainThread:Reading Value From Db\n",
            "17:55:03:MainThread:Updating Value\n",
            "17:55:03:MainThread:Update Finished\n",
            "17:55:03:MainThread:Reading Value From Db\n",
            "17:55:03:MainThread:Updating Value\n",
            "17:55:03:MainThread:Update Finished\n",
            "17:55:03:MainThread:Reading Value From Db\n",
            "17:55:03:MainThread:Updating Value\n",
            "17:55:03:MainThread:Update Finished\n",
            "17:55:03:MainThread:Reading Value From Db\n",
            "17:55:03:MainThread:Updating Value\n",
            "17:55:03:MainThread:Update Finished\n",
            "17:55:03:MainThread:Final value is 3791862310265926082868235028027893277370233152247388584761734150717768254410341175325352026\n"
          ]
        }
      ],
      "execution_count": 12,
      "metadata": {
        "collapsed": true,
        "jupyter": {
          "source_hidden": false,
          "outputs_hidden": false
        },
        "nteract": {
          "transient": {
            "deleting": false
          }
        },
        "execution": {
          "iopub.status.busy": "2024-02-17T16:55:02.172Z",
          "iopub.execute_input": "2024-02-17T16:55:02.182Z",
          "iopub.status.idle": "2024-02-17T16:55:03.238Z",
          "shell.execute_reply": "2024-02-17T16:55:03.247Z"
        }
      }
    },
    {
      "cell_type": "markdown",
      "source": [
        "Como se puede ver, una vez que la tarea se reanudó después de dormir, no cedió el control hasta que completó la ejecución de la coroutine. Con threading, el intercambio de hilos no es muy obvio, pero con asyncio, podemos controlar cuándo exactamente la ejecución de la coroutine debe ser suspendida. Sin embargo, puede ir mal cuando dos coroutines entran en un punto muerto."
      ],
      "metadata": {
        "nteract": {
          "transient": {
            "deleting": false
          }
        }
      }
    },
    {
      "cell_type": "code",
      "source": [
        "import asyncio \n",
        "\n",
        "async def foo():\n",
        "    await boo()\n",
        "    \n",
        "async def boo():\n",
        "    await foo()\n",
        "    \n",
        "async def main():\n",
        "    await asyncio.gather(*[foo(), boo()])\n",
        "    \n",
        "await main()"
      ],
      "outputs": [
        {
          "output_type": "error",
          "ename": "RecursionError",
          "evalue": "maximum recursion depth exceeded",
          "traceback": [
            "\u001b[0;31m---------------------------------------------------------------------------\u001b[0m",
            "\u001b[0;31mRecursionError\u001b[0m                            Traceback (most recent call last)",
            "Cell \u001b[0;32mIn[13], line 12\u001b[0m\n\u001b[1;32m      9\u001b[0m \u001b[38;5;28;01masync\u001b[39;00m \u001b[38;5;28;01mdef\u001b[39;00m \u001b[38;5;21mmain\u001b[39m():\n\u001b[1;32m     10\u001b[0m     \u001b[38;5;28;01mawait\u001b[39;00m asyncio\u001b[38;5;241m.\u001b[39mgather(\u001b[38;5;241m*\u001b[39m[foo(), boo()])\n\u001b[0;32m---> 12\u001b[0m \u001b[38;5;28;01mawait\u001b[39;00m main()\n",
            "Cell \u001b[0;32mIn[13], line 10\u001b[0m, in \u001b[0;36mmain\u001b[0;34m()\u001b[0m\n\u001b[1;32m      9\u001b[0m \u001b[38;5;28;01masync\u001b[39;00m \u001b[38;5;28;01mdef\u001b[39;00m \u001b[38;5;21mmain\u001b[39m():\n\u001b[0;32m---> 10\u001b[0m     \u001b[38;5;28;01mawait\u001b[39;00m asyncio\u001b[38;5;241m.\u001b[39mgather(\u001b[38;5;241m*\u001b[39m[foo(), boo()])\n",
            "Cell \u001b[0;32mIn[13], line 4\u001b[0m, in \u001b[0;36mfoo\u001b[0;34m()\u001b[0m\n\u001b[1;32m      3\u001b[0m \u001b[38;5;28;01masync\u001b[39;00m \u001b[38;5;28;01mdef\u001b[39;00m \u001b[38;5;21mfoo\u001b[39m():\n\u001b[0;32m----> 4\u001b[0m     \u001b[38;5;28;01mawait\u001b[39;00m boo()\n",
            "Cell \u001b[0;32mIn[13], line 7\u001b[0m, in \u001b[0;36mboo\u001b[0;34m()\u001b[0m\n\u001b[1;32m      6\u001b[0m \u001b[38;5;28;01masync\u001b[39;00m \u001b[38;5;28;01mdef\u001b[39;00m \u001b[38;5;21mboo\u001b[39m():\n\u001b[0;32m----> 7\u001b[0m     \u001b[38;5;28;01mawait\u001b[39;00m foo()\n",
            "Cell \u001b[0;32mIn[13], line 4\u001b[0m, in \u001b[0;36mfoo\u001b[0;34m()\u001b[0m\n\u001b[1;32m      3\u001b[0m \u001b[38;5;28;01masync\u001b[39;00m \u001b[38;5;28;01mdef\u001b[39;00m \u001b[38;5;21mfoo\u001b[39m():\n\u001b[0;32m----> 4\u001b[0m     \u001b[38;5;28;01mawait\u001b[39;00m boo()\n",
            "Cell \u001b[0;32mIn[13], line 7\u001b[0m, in \u001b[0;36mboo\u001b[0;34m()\u001b[0m\n\u001b[1;32m      6\u001b[0m \u001b[38;5;28;01masync\u001b[39;00m \u001b[38;5;28;01mdef\u001b[39;00m \u001b[38;5;21mboo\u001b[39m():\n\u001b[0;32m----> 7\u001b[0m     \u001b[38;5;28;01mawait\u001b[39;00m foo()\n",
            "    \u001b[0;31m[... skipping similar frames: foo at line 4 (1493 times), boo at line 7 (1492 times)]\u001b[0m\n",
            "Cell \u001b[0;32mIn[13], line 7\u001b[0m, in \u001b[0;36mboo\u001b[0;34m()\u001b[0m\n\u001b[1;32m      6\u001b[0m \u001b[38;5;28;01masync\u001b[39;00m \u001b[38;5;28;01mdef\u001b[39;00m \u001b[38;5;21mboo\u001b[39m():\n\u001b[0;32m----> 7\u001b[0m     \u001b[38;5;28;01mawait\u001b[39;00m foo()\n",
            "Cell \u001b[0;32mIn[13], line 4\u001b[0m, in \u001b[0;36mfoo\u001b[0;34m()\u001b[0m\n\u001b[1;32m      3\u001b[0m \u001b[38;5;28;01masync\u001b[39;00m \u001b[38;5;28;01mdef\u001b[39;00m \u001b[38;5;21mfoo\u001b[39m():\n\u001b[0;32m----> 4\u001b[0m     \u001b[38;5;28;01mawait\u001b[39;00m \u001b[43mboo\u001b[49m\u001b[43m(\u001b[49m\u001b[43m)\u001b[49m\n",
            "\u001b[0;31mRecursionError\u001b[0m: maximum recursion depth exceeded"
          ]
        }
      ],
      "execution_count": 13,
      "metadata": {
        "collapsed": true,
        "jupyter": {
          "source_hidden": false,
          "outputs_hidden": false
        },
        "nteract": {
          "transient": {
            "deleting": false
          }
        },
        "execution": {
          "iopub.status.busy": "2024-02-17T16:55:16.347Z",
          "iopub.execute_input": "2024-02-17T16:55:16.353Z"
        }
      }
    },
    {
      "cell_type": "markdown",
      "source": [
        "### Multiprocessing\n",
        "\n",
        "Como se ha mencionado anteriormente, el multiprocesamiento es muy útil cuando se implementan programas intensivos de CPU. El siguiente código ejecuta la ordenación por fusión en 1000 listas con 30000 elementos. Ten paciencia conmigo si la implementación de la ordenación por fusión es un poco torpe.\n",
        "\n",
        "#### Synchronous version"
      ],
      "metadata": {
        "nteract": {
          "transient": {
            "deleting": false
          }
        }
      }
    },
    {
      "cell_type": "code",
      "source": [
        "import math\n",
        "import numpy as np\n",
        "\n",
        "r_lists = [[np.random.randint(500000) for _ in range(30000)] for _ in range(1000)]\n",
        "\n",
        "def merge(l_1, l_2):\n",
        "    out = []\n",
        "    key_1 = 0\n",
        "    key_2 = 0\n",
        "    for i in range(len(l_1) + len(l_2)):\n",
        "        if l_1[key_1] < l_2[key_2]:\n",
        "            out.append(l_1[key_1])\n",
        "            key_1 += 1\n",
        "            if key_1 == len(l_1):\n",
        "                out = out + l_2[key_2:]\n",
        "                break\n",
        "        else:\n",
        "            out.append(l_2[key_2])\n",
        "            key_2 += 1\n",
        "            if key_2 == len(l_2):\n",
        "                out = out + l_1[key_1:]\n",
        "                break\n",
        "    return out\n",
        "\n",
        "def merge_sort(l):\n",
        "    if len(l) == 1:\n",
        "        return l\n",
        "    mid_point = math.floor((len(l) + 1) / 2)\n",
        "    l_1, l_2 = merge_sort(l[:mid_point]), merge_sort(l[mid_point:])\n",
        "    out = merge(l_1, l_2)\n",
        "    del l_1, l_2\n",
        "    return out\n",
        "\n",
        "\n",
        "logging.info(\"Starting Sorting\")\n",
        "for r_list in r_lists:\n",
        "        _ = merge_sort(r_list)\n",
        "logging.info(\"Sorting Completed\")"
      ],
      "outputs": [
        {
          "output_type": "stream",
          "name": "stderr",
          "text": [
            "18:01:55:MainThread:Starting Sorting\n",
            "18:02:31:MainThread:Sorting Completed\n"
          ]
        }
      ],
      "execution_count": 17,
      "metadata": {
        "collapsed": true,
        "jupyter": {
          "source_hidden": false,
          "outputs_hidden": false
        },
        "nteract": {
          "transient": {
            "deleting": false
          }
        },
        "execution": {
          "iopub.status.busy": "2024-02-17T17:01:13.671Z",
          "iopub.execute_input": "2024-02-17T17:01:13.688Z",
          "iopub.status.idle": "2024-02-17T17:02:31.528Z",
          "shell.execute_reply": "2024-02-17T17:02:31.537Z"
        }
      }
    },
    {
      "cell_type": "markdown",
      "source": [
        "#### Asynchronous version"
      ],
      "metadata": {
        "nteract": {
          "transient": {
            "deleting": false
          }
        }
      }
    },
    {
      "cell_type": "code",
      "source": [
        "import concurrent.futures as cf\n",
        "import logging\n",
        "import math\n",
        "import numpy as np\n",
        "import time\n",
        "import threading\n",
        "\n",
        "logger_format = '%(asctime)s:%(threadName)s:%(message)s'\n",
        "logging.basicConfig(format=logger_format, level=logging.INFO, datefmt=\"%H:%M:%S\")\n",
        "\n",
        "r_lists = [[np.random.randint(500000) for _ in range(30000)] for _ in range(1000)]\n",
        "\n",
        "def merge(l_1, l_2):\n",
        "    out = []\n",
        "    key_1 = 0\n",
        "    key_2 = 0\n",
        "    for i in range(len(l_1) + len(l_2)):\n",
        "        if l_1[key_1] < l_2[key_2]:\n",
        "            out.append(l_1[key_1])\n",
        "            key_1 += 1\n",
        "            if key_1 == len(l_1):\n",
        "                out = out + l_2[key_2:]\n",
        "                break\n",
        "        else:\n",
        "            out.append(l_2[key_2])\n",
        "            key_2 += 1\n",
        "            if key_2 == len(l_2):\n",
        "                out = out + l_1[key_1:]\n",
        "                break\n",
        "    return out\n",
        "\n",
        "def merge_sort(l):\n",
        "    if len(l) == 1:\n",
        "        return l\n",
        "    mid_point = math.floor((len(l) + 1) / 2)\n",
        "    l_1, l_2 = merge_sort(l[:mid_point]), merge_sort(l[mid_point:])\n",
        "    out = merge(l_1, l_2)\n",
        "    del l_1, l_2\n",
        "    return out\n",
        "\n",
        "if __name__ == '__main__':\n",
        "    logging.info(\"Starting Sorting\")\n",
        "    with cf.ProcessPoolExecutor() as executor:\n",
        "        sorted_lists_futures = [executor.submit(merge_sort, r_list) for r_list in r_lists]\n",
        "    logging.info(\"Sorting Completed\")"
      ],
      "outputs": [],
      "execution_count": null,
      "metadata": {
        "collapsed": true,
        "jupyter": {
          "source_hidden": false,
          "outputs_hidden": false
        },
        "nteract": {
          "transient": {
            "deleting": false
          }
        },
        "execution": {
          "iopub.status.busy": "2024-02-17T16:58:16.338Z",
          "iopub.execute_input": "2024-02-17T16:58:16.349Z",
          "iopub.status.idle": "2024-02-17T16:58:54.306Z",
          "shell.execute_reply": "2024-02-17T16:58:54.325Z"
        }
      }
    }
  ],
  "metadata": {
    "kernel_info": {
      "name": "python3"
    },
    "language_info": {
      "name": "python",
      "version": "3.12.2",
      "mimetype": "text/x-python",
      "codemirror_mode": {
        "name": "ipython",
        "version": 3
      },
      "pygments_lexer": "ipython3",
      "nbconvert_exporter": "python",
      "file_extension": ".py"
    },
    "kernelspec": {
      "argv": [
        "/Users/josu/anaconda3/envs/test/bin/python",
        "-m",
        "ipykernel_launcher",
        "-f",
        "{connection_file}"
      ],
      "display_name": "Python 3 (ipykernel)",
      "language": "python",
      "metadata": {
        "debugger": true
      },
      "name": "python3"
    },
    "nteract": {
      "version": "0.28.0"
    }
  },
  "nbformat": 4,
  "nbformat_minor": 0
}