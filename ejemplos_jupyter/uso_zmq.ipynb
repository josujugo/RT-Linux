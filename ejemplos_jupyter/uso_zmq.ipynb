{
 "cells": [
  {
   "cell_type": "markdown",
   "id": "1d6bdfba-4242-485a-80df-b4fcd2f43621",
   "metadata": {},
   "source": [
    "Ejemplos de uso de zeromq para mandar mensajes\n",
    "\n",
    "- simple client-server connection using ZeroMQ's \"REQ-REP\" pattern"
   ]
  },
  {
   "cell_type": "markdown",
   "id": "182ff345-2f96-42e2-819f-4f5c052e8389",
   "metadata": {},
   "source": [
    "Servidor"
   ]
  },
  {
   "cell_type": "code",
   "execution_count": null,
   "id": "538b8a5e-d1df-4b1d-b00f-533d2a0dc126",
   "metadata": {},
   "outputs": [],
   "source": [
    "import zmq\n",
    "\n",
    "context = zmq.Context()\n",
    "socket = context.socket(zmq.REP)\n",
    "socket.bind(\"tcp://*:5555\")\n",
    "\n",
    "while True:\n",
    "    message = socket.recv() # Wait for client request\n",
    "    print(\"Received request: %s\" % message)\n",
    "\n",
    "    # Send reply back to client\n",
    "    socket.send(b\"Hello from server!\")\n"
   ]
  },
  {
   "cell_type": "markdown",
   "id": "4dc60b37-f69a-4c6c-acef-8e1dbbd582c7",
   "metadata": {},
   "source": [
    "Cliente"
   ]
  },
  {
   "cell_type": "code",
   "execution_count": null,
   "id": "b45b8fe1-cd08-437c-8606-63ef4314e995",
   "metadata": {},
   "outputs": [],
   "source": [
    "import zmq\n",
    "\n",
    "context = zmq.Context()\n",
    "socket = context.socket(zmq.REQ)\n",
    "socket.connect(\"tcp://localhost:5555\")\n",
    "\n",
    "# Send a request to the server\n",
    "socket.send(b\"Hello from client!\")\n",
    "response = socket.recv() # Wait for server reply\n",
    "\n",
    "print(\"Received reply: %s\" % response)\n"
   ]
  },
  {
   "cell_type": "markdown",
   "id": "2bc96a6e-7413-466c-a49c-ac0222053100",
   "metadata": {},
   "source": [
    " - zmq.PUB and zmq.SUB socket types to create a publisher-subscriber pattern\n",
    "\n",
    "   Publisher"
   ]
  },
  {
   "cell_type": "code",
   "execution_count": null,
   "id": "017f4935-4b6a-4182-a765-5444a55f8c0c",
   "metadata": {},
   "outputs": [],
   "source": [
    "import zmq\n",
    "import time\n",
    "\n",
    "context = zmq.Context()\n",
    "socket = context.socket(zmq.PUB)\n",
    "socket.bind(\"tcp://*:5555\")\n",
    "\n",
    "while True:\n",
    "    message = \"Hello from publisher! Time is {}\".format(time.time())\n",
    "    socket.send_string(message)\n",
    "    time.sleep(1) # Wait for one second before sending next message\n"
   ]
  },
  {
   "cell_type": "markdown",
   "id": "45173770-3a06-4b7b-9e9a-63ff16a68292",
   "metadata": {},
   "source": [
    "Subscriber"
   ]
  },
  {
   "cell_type": "code",
   "execution_count": null,
   "id": "870f22c3-375f-48ff-84d5-2e2c3c9248e1",
   "metadata": {},
   "outputs": [],
   "source": [
    "import zmq\n",
    "\n",
    "context = zmq.Context()\n",
    "socket = context.socket(zmq.SUB)\n",
    "socket.connect(\"tcp://localhost:5555\")\n",
    "socket.setsockopt_string(zmq.SUBSCRIBE, '')\n",
    "\n",
    "while True:\n",
    "    message = socket.recv_string()\n",
    "    print(\"Received message: %s\" % message)\n"
   ]
  }
 ],
 "metadata": {
  "kernelspec": {
   "display_name": "Python 3 (ipykernel)",
   "language": "python",
   "name": "python3"
  },
  "language_info": {
   "codemirror_mode": {
    "name": "ipython",
    "version": 3
   },
   "file_extension": ".py",
   "mimetype": "text/x-python",
   "name": "python",
   "nbconvert_exporter": "python",
   "pygments_lexer": "ipython3",
   "version": "3.11.4"
  }
 },
 "nbformat": 4,
 "nbformat_minor": 5
}
